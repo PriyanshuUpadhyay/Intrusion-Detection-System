{
 "cells": [
  {
   "cell_type": "markdown",
   "metadata": {
    "id": "A7Ap-HGmbn6t"
   },
   "source": [
    "# **Importing Modules and Libraries**"
   ]
  },
  {
   "cell_type": "code",
   "execution_count": 70,
   "metadata": {
    "id": "ZEmlR_A8Gy30"
   },
   "outputs": [],
   "source": [
    "# importing required libraries\n",
    "import numpy as np\n",
    "import pandas as pd\n",
    "\n",
    "import seaborn as sns\n",
    "import matplotlib.pyplot as plt\n",
    "\n",
    "import pickle \n",
    "from os import path\n",
    "\n",
    "from sklearn.preprocessing import MinMaxScaler\n",
    "from sklearn.preprocessing import StandardScaler\n",
    "from sklearn.preprocessing import LabelEncoder\n",
    "\n",
    "from sklearn import metrics\n",
    "from sklearn import preprocessing\n",
    "from sklearn.metrics import accuracy_score\n",
    "from sklearn.model_selection import train_test_split \n",
    "from sklearn.metrics import classification_report\n",
    "\n",
    "from sklearn.svm import SVC\n",
    "from sklearn.linear_model import LinearRegression\n",
    "from sklearn.linear_model import LogisticRegression\n",
    "from sklearn.tree import DecisionTreeClassifier\n",
    "from sklearn.ensemble import RandomForestClassifier\n",
    "from sklearn.neighbors import KNeighborsClassifier\n",
    "from sklearn.neural_network import MLPClassifier"
   ]
  },
  {
   "cell_type": "markdown",
   "metadata": {
    "id": "QE9BV5QvbtmO"
   },
   "source": [
    "# **Importing Datasets**"
   ]
  },
  {
   "cell_type": "code",
   "execution_count": 71,
   "metadata": {
    "id": "e6PZCWoDG9uO"
   },
   "outputs": [],
   "source": [
    "data = pd.read_csv('datasets/UNSW_NB15.csv')"
   ]
  },
  {
   "cell_type": "code",
   "execution_count": 72,
   "metadata": {
    "colab": {
     "base_uri": "https://localhost:8080/",
     "height": 224
    },
    "id": "OiRwKzTMQj4G",
    "outputId": "84a4b7c2-bd3b-4c81-bf35-bc18eb78ef47"
   },
   "outputs": [
    {
     "data": {
      "text/html": [
       "<div>\n",
       "<style scoped>\n",
       "    .dataframe tbody tr th:only-of-type {\n",
       "        vertical-align: middle;\n",
       "    }\n",
       "\n",
       "    .dataframe tbody tr th {\n",
       "        vertical-align: top;\n",
       "    }\n",
       "\n",
       "    .dataframe thead th {\n",
       "        text-align: right;\n",
       "    }\n",
       "</style>\n",
       "<table border=\"1\" class=\"dataframe\">\n",
       "  <thead>\n",
       "    <tr style=\"text-align: right;\">\n",
       "      <th></th>\n",
       "      <th>id</th>\n",
       "      <th>dur</th>\n",
       "      <th>proto</th>\n",
       "      <th>service</th>\n",
       "      <th>state</th>\n",
       "      <th>spkts</th>\n",
       "      <th>dpkts</th>\n",
       "      <th>sbytes</th>\n",
       "      <th>dbytes</th>\n",
       "      <th>rate</th>\n",
       "      <th>...</th>\n",
       "      <th>ct_dst_sport_ltm</th>\n",
       "      <th>ct_dst_src_ltm</th>\n",
       "      <th>is_ftp_login</th>\n",
       "      <th>ct_ftp_cmd</th>\n",
       "      <th>ct_flw_http_mthd</th>\n",
       "      <th>ct_src_ltm</th>\n",
       "      <th>ct_srv_dst</th>\n",
       "      <th>is_sm_ips_ports</th>\n",
       "      <th>attack_cat</th>\n",
       "      <th>label</th>\n",
       "    </tr>\n",
       "  </thead>\n",
       "  <tbody>\n",
       "    <tr>\n",
       "      <th>0</th>\n",
       "      <td>1</td>\n",
       "      <td>0.121478</td>\n",
       "      <td>tcp</td>\n",
       "      <td>-</td>\n",
       "      <td>FIN</td>\n",
       "      <td>6</td>\n",
       "      <td>4</td>\n",
       "      <td>258</td>\n",
       "      <td>172</td>\n",
       "      <td>74.087490</td>\n",
       "      <td>...</td>\n",
       "      <td>1</td>\n",
       "      <td>1</td>\n",
       "      <td>0</td>\n",
       "      <td>0</td>\n",
       "      <td>0</td>\n",
       "      <td>1</td>\n",
       "      <td>1</td>\n",
       "      <td>0</td>\n",
       "      <td>Normal</td>\n",
       "      <td>0</td>\n",
       "    </tr>\n",
       "    <tr>\n",
       "      <th>1</th>\n",
       "      <td>2</td>\n",
       "      <td>0.649902</td>\n",
       "      <td>tcp</td>\n",
       "      <td>-</td>\n",
       "      <td>FIN</td>\n",
       "      <td>14</td>\n",
       "      <td>38</td>\n",
       "      <td>734</td>\n",
       "      <td>42014</td>\n",
       "      <td>78.473372</td>\n",
       "      <td>...</td>\n",
       "      <td>1</td>\n",
       "      <td>2</td>\n",
       "      <td>0</td>\n",
       "      <td>0</td>\n",
       "      <td>0</td>\n",
       "      <td>1</td>\n",
       "      <td>6</td>\n",
       "      <td>0</td>\n",
       "      <td>Normal</td>\n",
       "      <td>0</td>\n",
       "    </tr>\n",
       "    <tr>\n",
       "      <th>2</th>\n",
       "      <td>3</td>\n",
       "      <td>1.623129</td>\n",
       "      <td>tcp</td>\n",
       "      <td>-</td>\n",
       "      <td>FIN</td>\n",
       "      <td>8</td>\n",
       "      <td>16</td>\n",
       "      <td>364</td>\n",
       "      <td>13186</td>\n",
       "      <td>14.170161</td>\n",
       "      <td>...</td>\n",
       "      <td>1</td>\n",
       "      <td>3</td>\n",
       "      <td>0</td>\n",
       "      <td>0</td>\n",
       "      <td>0</td>\n",
       "      <td>2</td>\n",
       "      <td>6</td>\n",
       "      <td>0</td>\n",
       "      <td>Normal</td>\n",
       "      <td>0</td>\n",
       "    </tr>\n",
       "    <tr>\n",
       "      <th>3</th>\n",
       "      <td>4</td>\n",
       "      <td>1.681642</td>\n",
       "      <td>tcp</td>\n",
       "      <td>ftp</td>\n",
       "      <td>FIN</td>\n",
       "      <td>12</td>\n",
       "      <td>12</td>\n",
       "      <td>628</td>\n",
       "      <td>770</td>\n",
       "      <td>13.677108</td>\n",
       "      <td>...</td>\n",
       "      <td>1</td>\n",
       "      <td>3</td>\n",
       "      <td>1</td>\n",
       "      <td>1</td>\n",
       "      <td>0</td>\n",
       "      <td>2</td>\n",
       "      <td>1</td>\n",
       "      <td>0</td>\n",
       "      <td>Normal</td>\n",
       "      <td>0</td>\n",
       "    </tr>\n",
       "    <tr>\n",
       "      <th>4</th>\n",
       "      <td>5</td>\n",
       "      <td>0.449454</td>\n",
       "      <td>tcp</td>\n",
       "      <td>-</td>\n",
       "      <td>FIN</td>\n",
       "      <td>10</td>\n",
       "      <td>6</td>\n",
       "      <td>534</td>\n",
       "      <td>268</td>\n",
       "      <td>33.373826</td>\n",
       "      <td>...</td>\n",
       "      <td>1</td>\n",
       "      <td>40</td>\n",
       "      <td>0</td>\n",
       "      <td>0</td>\n",
       "      <td>0</td>\n",
       "      <td>2</td>\n",
       "      <td>39</td>\n",
       "      <td>0</td>\n",
       "      <td>Normal</td>\n",
       "      <td>0</td>\n",
       "    </tr>\n",
       "  </tbody>\n",
       "</table>\n",
       "<p>5 rows × 45 columns</p>\n",
       "</div>"
      ],
      "text/plain": [
       "   id       dur proto service state  spkts  dpkts  sbytes  dbytes       rate  \\\n",
       "0   1  0.121478   tcp       -   FIN      6      4     258     172  74.087490   \n",
       "1   2  0.649902   tcp       -   FIN     14     38     734   42014  78.473372   \n",
       "2   3  1.623129   tcp       -   FIN      8     16     364   13186  14.170161   \n",
       "3   4  1.681642   tcp     ftp   FIN     12     12     628     770  13.677108   \n",
       "4   5  0.449454   tcp       -   FIN     10      6     534     268  33.373826   \n",
       "\n",
       "   ...  ct_dst_sport_ltm  ct_dst_src_ltm  is_ftp_login  ct_ftp_cmd  \\\n",
       "0  ...                 1               1             0           0   \n",
       "1  ...                 1               2             0           0   \n",
       "2  ...                 1               3             0           0   \n",
       "3  ...                 1               3             1           1   \n",
       "4  ...                 1              40             0           0   \n",
       "\n",
       "   ct_flw_http_mthd  ct_src_ltm  ct_srv_dst  is_sm_ips_ports  attack_cat  \\\n",
       "0                 0           1           1                0      Normal   \n",
       "1                 0           1           6                0      Normal   \n",
       "2                 0           2           6                0      Normal   \n",
       "3                 0           2           1                0      Normal   \n",
       "4                 0           2          39                0      Normal   \n",
       "\n",
       "   label  \n",
       "0      0  \n",
       "1      0  \n",
       "2      0  \n",
       "3      0  \n",
       "4      0  \n",
       "\n",
       "[5 rows x 45 columns]"
      ]
     },
     "execution_count": 72,
     "metadata": {},
     "output_type": "execute_result"
    }
   ],
   "source": [
    "data.head(n=5)"
   ]
  },
  {
   "cell_type": "code",
   "execution_count": 73,
   "metadata": {
    "colab": {
     "base_uri": "https://localhost:8080/"
    },
    "id": "B9cVv5S_RUlZ",
    "outputId": "537b13d5-9c32-442f-d109-4a514fb882dd"
   },
   "outputs": [
    {
     "name": "stdout",
     "output_type": "stream",
     "text": [
      "<class 'pandas.core.frame.DataFrame'>\n",
      "RangeIndex: 175341 entries, 0 to 175340\n",
      "Data columns (total 45 columns):\n",
      " #   Column             Non-Null Count   Dtype  \n",
      "---  ------             --------------   -----  \n",
      " 0   id                 175341 non-null  int64  \n",
      " 1   dur                175341 non-null  float64\n",
      " 2   proto              175341 non-null  object \n",
      " 3   service            175341 non-null  object \n",
      " 4   state              175341 non-null  object \n",
      " 5   spkts              175341 non-null  int64  \n",
      " 6   dpkts              175341 non-null  int64  \n",
      " 7   sbytes             175341 non-null  int64  \n",
      " 8   dbytes             175341 non-null  int64  \n",
      " 9   rate               175341 non-null  float64\n",
      " 10  sttl               175341 non-null  int64  \n",
      " 11  dttl               175341 non-null  int64  \n",
      " 12  sload              175341 non-null  float64\n",
      " 13  dload              175341 non-null  float64\n",
      " 14  sloss              175341 non-null  int64  \n",
      " 15  dloss              175341 non-null  int64  \n",
      " 16  sinpkt             175341 non-null  float64\n",
      " 17  dinpkt             175341 non-null  float64\n",
      " 18  sjit               175341 non-null  float64\n",
      " 19  djit               175341 non-null  float64\n",
      " 20  swin               175341 non-null  int64  \n",
      " 21  stcpb              175341 non-null  int64  \n",
      " 22  dtcpb              175341 non-null  int64  \n",
      " 23  dwin               175341 non-null  int64  \n",
      " 24  tcprtt             175341 non-null  float64\n",
      " 25  synack             175341 non-null  float64\n",
      " 26  ackdat             175341 non-null  float64\n",
      " 27  smean              175341 non-null  int64  \n",
      " 28  dmean              175341 non-null  int64  \n",
      " 29  trans_depth        175341 non-null  int64  \n",
      " 30  response_body_len  175341 non-null  int64  \n",
      " 31  ct_srv_src         175341 non-null  int64  \n",
      " 32  ct_state_ttl       175341 non-null  int64  \n",
      " 33  ct_dst_ltm         175341 non-null  int64  \n",
      " 34  ct_src_dport_ltm   175341 non-null  int64  \n",
      " 35  ct_dst_sport_ltm   175341 non-null  int64  \n",
      " 36  ct_dst_src_ltm     175341 non-null  int64  \n",
      " 37  is_ftp_login       175341 non-null  int64  \n",
      " 38  ct_ftp_cmd         175341 non-null  int64  \n",
      " 39  ct_flw_http_mthd   175341 non-null  int64  \n",
      " 40  ct_src_ltm         175341 non-null  int64  \n",
      " 41  ct_srv_dst         175341 non-null  int64  \n",
      " 42  is_sm_ips_ports    175341 non-null  int64  \n",
      " 43  attack_cat         175341 non-null  object \n",
      " 44  label              175341 non-null  int64  \n",
      "dtypes: float64(11), int64(30), object(4)\n",
      "memory usage: 60.2+ MB\n"
     ]
    }
   ],
   "source": [
    "data.info()"
   ]
  },
  {
   "cell_type": "code",
   "execution_count": 74,
   "metadata": {
    "colab": {
     "base_uri": "https://localhost:8080/",
     "height": 439
    },
    "id": "1VchaJgfR7r3",
    "outputId": "ef6cbe08-bec3-4bfc-a89c-e3e9ee63160b"
   },
   "outputs": [
    {
     "data": {
      "text/html": [
       "<div>\n",
       "<style scoped>\n",
       "    .dataframe tbody tr th:only-of-type {\n",
       "        vertical-align: middle;\n",
       "    }\n",
       "\n",
       "    .dataframe tbody tr th {\n",
       "        vertical-align: top;\n",
       "    }\n",
       "\n",
       "    .dataframe thead th {\n",
       "        text-align: right;\n",
       "    }\n",
       "</style>\n",
       "<table border=\"1\" class=\"dataframe\">\n",
       "  <thead>\n",
       "    <tr style=\"text-align: right;\">\n",
       "      <th></th>\n",
       "      <th>id</th>\n",
       "      <th>dur</th>\n",
       "      <th>proto</th>\n",
       "      <th>service</th>\n",
       "      <th>state</th>\n",
       "      <th>spkts</th>\n",
       "      <th>dpkts</th>\n",
       "      <th>sbytes</th>\n",
       "      <th>dbytes</th>\n",
       "      <th>rate</th>\n",
       "      <th>...</th>\n",
       "      <th>ct_dst_sport_ltm</th>\n",
       "      <th>ct_dst_src_ltm</th>\n",
       "      <th>is_ftp_login</th>\n",
       "      <th>ct_ftp_cmd</th>\n",
       "      <th>ct_flw_http_mthd</th>\n",
       "      <th>ct_src_ltm</th>\n",
       "      <th>ct_srv_dst</th>\n",
       "      <th>is_sm_ips_ports</th>\n",
       "      <th>attack_cat</th>\n",
       "      <th>label</th>\n",
       "    </tr>\n",
       "  </thead>\n",
       "  <tbody>\n",
       "    <tr>\n",
       "      <th>0</th>\n",
       "      <td>1</td>\n",
       "      <td>0.121478</td>\n",
       "      <td>tcp</td>\n",
       "      <td>-</td>\n",
       "      <td>FIN</td>\n",
       "      <td>6</td>\n",
       "      <td>4</td>\n",
       "      <td>258</td>\n",
       "      <td>172</td>\n",
       "      <td>74.087490</td>\n",
       "      <td>...</td>\n",
       "      <td>1</td>\n",
       "      <td>1</td>\n",
       "      <td>0</td>\n",
       "      <td>0</td>\n",
       "      <td>0</td>\n",
       "      <td>1</td>\n",
       "      <td>1</td>\n",
       "      <td>0</td>\n",
       "      <td>Normal</td>\n",
       "      <td>0</td>\n",
       "    </tr>\n",
       "    <tr>\n",
       "      <th>1</th>\n",
       "      <td>2</td>\n",
       "      <td>0.649902</td>\n",
       "      <td>tcp</td>\n",
       "      <td>-</td>\n",
       "      <td>FIN</td>\n",
       "      <td>14</td>\n",
       "      <td>38</td>\n",
       "      <td>734</td>\n",
       "      <td>42014</td>\n",
       "      <td>78.473372</td>\n",
       "      <td>...</td>\n",
       "      <td>1</td>\n",
       "      <td>2</td>\n",
       "      <td>0</td>\n",
       "      <td>0</td>\n",
       "      <td>0</td>\n",
       "      <td>1</td>\n",
       "      <td>6</td>\n",
       "      <td>0</td>\n",
       "      <td>Normal</td>\n",
       "      <td>0</td>\n",
       "    </tr>\n",
       "    <tr>\n",
       "      <th>2</th>\n",
       "      <td>3</td>\n",
       "      <td>1.623129</td>\n",
       "      <td>tcp</td>\n",
       "      <td>-</td>\n",
       "      <td>FIN</td>\n",
       "      <td>8</td>\n",
       "      <td>16</td>\n",
       "      <td>364</td>\n",
       "      <td>13186</td>\n",
       "      <td>14.170161</td>\n",
       "      <td>...</td>\n",
       "      <td>1</td>\n",
       "      <td>3</td>\n",
       "      <td>0</td>\n",
       "      <td>0</td>\n",
       "      <td>0</td>\n",
       "      <td>2</td>\n",
       "      <td>6</td>\n",
       "      <td>0</td>\n",
       "      <td>Normal</td>\n",
       "      <td>0</td>\n",
       "    </tr>\n",
       "    <tr>\n",
       "      <th>4</th>\n",
       "      <td>5</td>\n",
       "      <td>0.449454</td>\n",
       "      <td>tcp</td>\n",
       "      <td>-</td>\n",
       "      <td>FIN</td>\n",
       "      <td>10</td>\n",
       "      <td>6</td>\n",
       "      <td>534</td>\n",
       "      <td>268</td>\n",
       "      <td>33.373826</td>\n",
       "      <td>...</td>\n",
       "      <td>1</td>\n",
       "      <td>40</td>\n",
       "      <td>0</td>\n",
       "      <td>0</td>\n",
       "      <td>0</td>\n",
       "      <td>2</td>\n",
       "      <td>39</td>\n",
       "      <td>0</td>\n",
       "      <td>Normal</td>\n",
       "      <td>0</td>\n",
       "    </tr>\n",
       "    <tr>\n",
       "      <th>5</th>\n",
       "      <td>6</td>\n",
       "      <td>0.380537</td>\n",
       "      <td>tcp</td>\n",
       "      <td>-</td>\n",
       "      <td>FIN</td>\n",
       "      <td>10</td>\n",
       "      <td>6</td>\n",
       "      <td>534</td>\n",
       "      <td>268</td>\n",
       "      <td>39.417980</td>\n",
       "      <td>...</td>\n",
       "      <td>1</td>\n",
       "      <td>40</td>\n",
       "      <td>0</td>\n",
       "      <td>0</td>\n",
       "      <td>0</td>\n",
       "      <td>2</td>\n",
       "      <td>39</td>\n",
       "      <td>0</td>\n",
       "      <td>Normal</td>\n",
       "      <td>0</td>\n",
       "    </tr>\n",
       "    <tr>\n",
       "      <th>...</th>\n",
       "      <td>...</td>\n",
       "      <td>...</td>\n",
       "      <td>...</td>\n",
       "      <td>...</td>\n",
       "      <td>...</td>\n",
       "      <td>...</td>\n",
       "      <td>...</td>\n",
       "      <td>...</td>\n",
       "      <td>...</td>\n",
       "      <td>...</td>\n",
       "      <td>...</td>\n",
       "      <td>...</td>\n",
       "      <td>...</td>\n",
       "      <td>...</td>\n",
       "      <td>...</td>\n",
       "      <td>...</td>\n",
       "      <td>...</td>\n",
       "      <td>...</td>\n",
       "      <td>...</td>\n",
       "      <td>...</td>\n",
       "      <td>...</td>\n",
       "    </tr>\n",
       "    <tr>\n",
       "      <th>175125</th>\n",
       "      <td>175126</td>\n",
       "      <td>0.653375</td>\n",
       "      <td>tcp</td>\n",
       "      <td>-</td>\n",
       "      <td>FIN</td>\n",
       "      <td>10</td>\n",
       "      <td>8</td>\n",
       "      <td>564</td>\n",
       "      <td>354</td>\n",
       "      <td>26.018748</td>\n",
       "      <td>...</td>\n",
       "      <td>1</td>\n",
       "      <td>1</td>\n",
       "      <td>0</td>\n",
       "      <td>0</td>\n",
       "      <td>0</td>\n",
       "      <td>18</td>\n",
       "      <td>1</td>\n",
       "      <td>0</td>\n",
       "      <td>Reconnaissance</td>\n",
       "      <td>1</td>\n",
       "    </tr>\n",
       "    <tr>\n",
       "      <th>175179</th>\n",
       "      <td>175180</td>\n",
       "      <td>0.695566</td>\n",
       "      <td>tcp</td>\n",
       "      <td>-</td>\n",
       "      <td>FIN</td>\n",
       "      <td>10</td>\n",
       "      <td>8</td>\n",
       "      <td>564</td>\n",
       "      <td>354</td>\n",
       "      <td>24.440528</td>\n",
       "      <td>...</td>\n",
       "      <td>1</td>\n",
       "      <td>1</td>\n",
       "      <td>0</td>\n",
       "      <td>0</td>\n",
       "      <td>0</td>\n",
       "      <td>3</td>\n",
       "      <td>1</td>\n",
       "      <td>0</td>\n",
       "      <td>Reconnaissance</td>\n",
       "      <td>1</td>\n",
       "    </tr>\n",
       "    <tr>\n",
       "      <th>175191</th>\n",
       "      <td>175192</td>\n",
       "      <td>0.962856</td>\n",
       "      <td>tcp</td>\n",
       "      <td>-</td>\n",
       "      <td>FIN</td>\n",
       "      <td>24</td>\n",
       "      <td>60</td>\n",
       "      <td>1256</td>\n",
       "      <td>59374</td>\n",
       "      <td>86.201883</td>\n",
       "      <td>...</td>\n",
       "      <td>1</td>\n",
       "      <td>1</td>\n",
       "      <td>0</td>\n",
       "      <td>0</td>\n",
       "      <td>0</td>\n",
       "      <td>1</td>\n",
       "      <td>1</td>\n",
       "      <td>0</td>\n",
       "      <td>Exploits</td>\n",
       "      <td>1</td>\n",
       "    </tr>\n",
       "    <tr>\n",
       "      <th>175277</th>\n",
       "      <td>175278</td>\n",
       "      <td>3.719110</td>\n",
       "      <td>tcp</td>\n",
       "      <td>-</td>\n",
       "      <td>FIN</td>\n",
       "      <td>66</td>\n",
       "      <td>340</td>\n",
       "      <td>3086</td>\n",
       "      <td>426483</td>\n",
       "      <td>108.897021</td>\n",
       "      <td>...</td>\n",
       "      <td>1</td>\n",
       "      <td>1</td>\n",
       "      <td>0</td>\n",
       "      <td>0</td>\n",
       "      <td>0</td>\n",
       "      <td>2</td>\n",
       "      <td>1</td>\n",
       "      <td>0</td>\n",
       "      <td>Exploits</td>\n",
       "      <td>1</td>\n",
       "    </tr>\n",
       "    <tr>\n",
       "      <th>175337</th>\n",
       "      <td>175338</td>\n",
       "      <td>0.505762</td>\n",
       "      <td>tcp</td>\n",
       "      <td>-</td>\n",
       "      <td>FIN</td>\n",
       "      <td>10</td>\n",
       "      <td>8</td>\n",
       "      <td>620</td>\n",
       "      <td>354</td>\n",
       "      <td>33.612649</td>\n",
       "      <td>...</td>\n",
       "      <td>1</td>\n",
       "      <td>2</td>\n",
       "      <td>0</td>\n",
       "      <td>0</td>\n",
       "      <td>0</td>\n",
       "      <td>1</td>\n",
       "      <td>1</td>\n",
       "      <td>0</td>\n",
       "      <td>Shellcode</td>\n",
       "      <td>1</td>\n",
       "    </tr>\n",
       "  </tbody>\n",
       "</table>\n",
       "<p>94168 rows × 45 columns</p>\n",
       "</div>"
      ],
      "text/plain": [
       "            id       dur proto service state  spkts  dpkts  sbytes  dbytes  \\\n",
       "0            1  0.121478   tcp       -   FIN      6      4     258     172   \n",
       "1            2  0.649902   tcp       -   FIN     14     38     734   42014   \n",
       "2            3  1.623129   tcp       -   FIN      8     16     364   13186   \n",
       "4            5  0.449454   tcp       -   FIN     10      6     534     268   \n",
       "5            6  0.380537   tcp       -   FIN     10      6     534     268   \n",
       "...        ...       ...   ...     ...   ...    ...    ...     ...     ...   \n",
       "175125  175126  0.653375   tcp       -   FIN     10      8     564     354   \n",
       "175179  175180  0.695566   tcp       -   FIN     10      8     564     354   \n",
       "175191  175192  0.962856   tcp       -   FIN     24     60    1256   59374   \n",
       "175277  175278  3.719110   tcp       -   FIN     66    340    3086  426483   \n",
       "175337  175338  0.505762   tcp       -   FIN     10      8     620     354   \n",
       "\n",
       "              rate  ...  ct_dst_sport_ltm  ct_dst_src_ltm  is_ftp_login  \\\n",
       "0        74.087490  ...                 1               1             0   \n",
       "1        78.473372  ...                 1               2             0   \n",
       "2        14.170161  ...                 1               3             0   \n",
       "4        33.373826  ...                 1              40             0   \n",
       "5        39.417980  ...                 1              40             0   \n",
       "...            ...  ...               ...             ...           ...   \n",
       "175125   26.018748  ...                 1               1             0   \n",
       "175179   24.440528  ...                 1               1             0   \n",
       "175191   86.201883  ...                 1               1             0   \n",
       "175277  108.897021  ...                 1               1             0   \n",
       "175337   33.612649  ...                 1               2             0   \n",
       "\n",
       "        ct_ftp_cmd  ct_flw_http_mthd  ct_src_ltm  ct_srv_dst  is_sm_ips_ports  \\\n",
       "0                0                 0           1           1                0   \n",
       "1                0                 0           1           6                0   \n",
       "2                0                 0           2           6                0   \n",
       "4                0                 0           2          39                0   \n",
       "5                0                 0           2          39                0   \n",
       "...            ...               ...         ...         ...              ...   \n",
       "175125           0                 0          18           1                0   \n",
       "175179           0                 0           3           1                0   \n",
       "175191           0                 0           1           1                0   \n",
       "175277           0                 0           2           1                0   \n",
       "175337           0                 0           1           1                0   \n",
       "\n",
       "            attack_cat  label  \n",
       "0               Normal      0  \n",
       "1               Normal      0  \n",
       "2               Normal      0  \n",
       "4               Normal      0  \n",
       "5               Normal      0  \n",
       "...                ...    ...  \n",
       "175125  Reconnaissance      1  \n",
       "175179  Reconnaissance      1  \n",
       "175191        Exploits      1  \n",
       "175277        Exploits      1  \n",
       "175337       Shellcode      1  \n",
       "\n",
       "[94168 rows x 45 columns]"
      ]
     },
     "execution_count": 74,
     "metadata": {},
     "output_type": "execute_result"
    }
   ],
   "source": [
    "data[data['service']=='-']"
   ]
  },
  {
   "cell_type": "code",
   "execution_count": 75,
   "metadata": {
    "id": "ySdfpAsaCabg"
   },
   "outputs": [],
   "source": [
    "data['service'].replace('-',np.nan,inplace=True)"
   ]
  },
  {
   "cell_type": "code",
   "execution_count": 76,
   "metadata": {
    "colab": {
     "base_uri": "https://localhost:8080/"
    },
    "id": "zO7VNaGKDYDA",
    "outputId": "71d063d1-13b0-4391-cd12-5551e170c907"
   },
   "outputs": [
    {
     "data": {
      "text/plain": [
       "id                       0\n",
       "dur                      0\n",
       "proto                    0\n",
       "service              94168\n",
       "state                    0\n",
       "spkts                    0\n",
       "dpkts                    0\n",
       "sbytes                   0\n",
       "dbytes                   0\n",
       "rate                     0\n",
       "sttl                     0\n",
       "dttl                     0\n",
       "sload                    0\n",
       "dload                    0\n",
       "sloss                    0\n",
       "dloss                    0\n",
       "sinpkt                   0\n",
       "dinpkt                   0\n",
       "sjit                     0\n",
       "djit                     0\n",
       "swin                     0\n",
       "stcpb                    0\n",
       "dtcpb                    0\n",
       "dwin                     0\n",
       "tcprtt                   0\n",
       "synack                   0\n",
       "ackdat                   0\n",
       "smean                    0\n",
       "dmean                    0\n",
       "trans_depth              0\n",
       "response_body_len        0\n",
       "ct_srv_src               0\n",
       "ct_state_ttl             0\n",
       "ct_dst_ltm               0\n",
       "ct_src_dport_ltm         0\n",
       "ct_dst_sport_ltm         0\n",
       "ct_dst_src_ltm           0\n",
       "is_ftp_login             0\n",
       "ct_ftp_cmd               0\n",
       "ct_flw_http_mthd         0\n",
       "ct_src_ltm               0\n",
       "ct_srv_dst               0\n",
       "is_sm_ips_ports          0\n",
       "attack_cat               0\n",
       "label                    0\n",
       "dtype: int64"
      ]
     },
     "execution_count": 76,
     "metadata": {},
     "output_type": "execute_result"
    }
   ],
   "source": [
    "data.isnull().sum()"
   ]
  },
  {
   "cell_type": "code",
   "execution_count": 77,
   "metadata": {
    "colab": {
     "base_uri": "https://localhost:8080/"
    },
    "id": "p1rm-THJD71O",
    "outputId": "833a6478-926f-46af-e224-5a7dbf9a75fa"
   },
   "outputs": [
    {
     "data": {
      "text/plain": [
       "(175341, 45)"
      ]
     },
     "execution_count": 77,
     "metadata": {},
     "output_type": "execute_result"
    }
   ],
   "source": [
    "data.shape"
   ]
  },
  {
   "cell_type": "code",
   "execution_count": 78,
   "metadata": {
    "id": "qIPIPT0PD1b_"
   },
   "outputs": [],
   "source": [
    "data.dropna(inplace=True)"
   ]
  },
  {
   "cell_type": "code",
   "execution_count": 79,
   "metadata": {
    "colab": {
     "base_uri": "https://localhost:8080/"
    },
    "id": "PCdLLz3EEkfd",
    "outputId": "aa346e0e-2fa8-4d19-cce6-4224ec2941ab"
   },
   "outputs": [
    {
     "data": {
      "text/plain": [
       "(81173, 45)"
      ]
     },
     "execution_count": 79,
     "metadata": {},
     "output_type": "execute_result"
    }
   ],
   "source": [
    "data.shape"
   ]
  },
  {
   "cell_type": "code",
   "execution_count": 84,
   "metadata": {
    "colab": {
     "base_uri": "https://localhost:8080/"
    },
    "id": "sJNxMEoqbYvG",
    "outputId": "7bb21df1-c32f-4b17-f86e-fc7165b7c980",
    "scrolled": false
   },
   "outputs": [
    {
     "data": {
      "text/plain": [
       "Generic           39496\n",
       "Normal            19488\n",
       "Exploits          16187\n",
       "DoS                1791\n",
       "Fuzzers            1731\n",
       "Reconnaissance     1703\n",
       "Analysis            564\n",
       "Worms               114\n",
       "Backdoor             99\n",
       "Name: attack_cat, dtype: int64"
      ]
     },
     "execution_count": 84,
     "metadata": {},
     "output_type": "execute_result"
    }
   ],
   "source": [
    "data['attack_cat'].value_counts()"
   ]
  },
  {
   "cell_type": "code",
   "execution_count": 82,
   "metadata": {},
   "outputs": [
    {
     "data": {
      "text/plain": [
       "array(['Normal', 'Backdoor', 'Fuzzers', 'Reconnaissance', 'Exploits',\n",
       "       'Analysis', 'DoS', 'Worms', 'Generic'], dtype=object)"
      ]
     },
     "execution_count": 82,
     "metadata": {},
     "output_type": "execute_result"
    }
   ],
   "source": [
    "data.attack_cat.unique()"
   ]
  },
  {
   "cell_type": "code",
   "execution_count": 12,
   "metadata": {
    "colab": {
     "base_uri": "https://localhost:8080/",
     "height": 439
    },
    "id": "O3-FL4ETdp4d",
    "outputId": "5be2c7ec-51e3-4de0-ceee-f1c2cd40ae77"
   },
   "outputs": [
    {
     "data": {
      "text/html": [
       "<div>\n",
       "<style scoped>\n",
       "    .dataframe tbody tr th:only-of-type {\n",
       "        vertical-align: middle;\n",
       "    }\n",
       "\n",
       "    .dataframe tbody tr th {\n",
       "        vertical-align: top;\n",
       "    }\n",
       "\n",
       "    .dataframe thead th {\n",
       "        text-align: right;\n",
       "    }\n",
       "</style>\n",
       "<table border=\"1\" class=\"dataframe\">\n",
       "  <thead>\n",
       "    <tr style=\"text-align: right;\">\n",
       "      <th></th>\n",
       "      <th>id</th>\n",
       "      <th>dur</th>\n",
       "      <th>proto</th>\n",
       "      <th>service</th>\n",
       "      <th>state</th>\n",
       "      <th>spkts</th>\n",
       "      <th>dpkts</th>\n",
       "      <th>sbytes</th>\n",
       "      <th>dbytes</th>\n",
       "      <th>rate</th>\n",
       "      <th>...</th>\n",
       "      <th>ct_dst_sport_ltm</th>\n",
       "      <th>ct_dst_src_ltm</th>\n",
       "      <th>is_ftp_login</th>\n",
       "      <th>ct_ftp_cmd</th>\n",
       "      <th>ct_flw_http_mthd</th>\n",
       "      <th>ct_src_ltm</th>\n",
       "      <th>ct_srv_dst</th>\n",
       "      <th>is_sm_ips_ports</th>\n",
       "      <th>attack_cat</th>\n",
       "      <th>label</th>\n",
       "    </tr>\n",
       "  </thead>\n",
       "  <tbody>\n",
       "    <tr>\n",
       "      <th>3</th>\n",
       "      <td>4</td>\n",
       "      <td>1.681642</td>\n",
       "      <td>tcp</td>\n",
       "      <td>ftp</td>\n",
       "      <td>FIN</td>\n",
       "      <td>12</td>\n",
       "      <td>12</td>\n",
       "      <td>628</td>\n",
       "      <td>770</td>\n",
       "      <td>13.677108</td>\n",
       "      <td>...</td>\n",
       "      <td>1</td>\n",
       "      <td>3</td>\n",
       "      <td>1</td>\n",
       "      <td>1</td>\n",
       "      <td>0</td>\n",
       "      <td>2</td>\n",
       "      <td>1</td>\n",
       "      <td>0</td>\n",
       "      <td>Normal</td>\n",
       "      <td>0</td>\n",
       "    </tr>\n",
       "    <tr>\n",
       "      <th>11</th>\n",
       "      <td>12</td>\n",
       "      <td>2.093085</td>\n",
       "      <td>tcp</td>\n",
       "      <td>smtp</td>\n",
       "      <td>FIN</td>\n",
       "      <td>62</td>\n",
       "      <td>28</td>\n",
       "      <td>56329</td>\n",
       "      <td>2212</td>\n",
       "      <td>42.520967</td>\n",
       "      <td>...</td>\n",
       "      <td>1</td>\n",
       "      <td>2</td>\n",
       "      <td>0</td>\n",
       "      <td>0</td>\n",
       "      <td>0</td>\n",
       "      <td>1</td>\n",
       "      <td>1</td>\n",
       "      <td>0</td>\n",
       "      <td>Normal</td>\n",
       "      <td>0</td>\n",
       "    </tr>\n",
       "    <tr>\n",
       "      <th>15</th>\n",
       "      <td>16</td>\n",
       "      <td>0.000002</td>\n",
       "      <td>udp</td>\n",
       "      <td>snmp</td>\n",
       "      <td>INT</td>\n",
       "      <td>2</td>\n",
       "      <td>0</td>\n",
       "      <td>138</td>\n",
       "      <td>0</td>\n",
       "      <td>500000.001300</td>\n",
       "      <td>...</td>\n",
       "      <td>1</td>\n",
       "      <td>4</td>\n",
       "      <td>0</td>\n",
       "      <td>0</td>\n",
       "      <td>0</td>\n",
       "      <td>2</td>\n",
       "      <td>1</td>\n",
       "      <td>0</td>\n",
       "      <td>Normal</td>\n",
       "      <td>0</td>\n",
       "    </tr>\n",
       "    <tr>\n",
       "      <th>17</th>\n",
       "      <td>18</td>\n",
       "      <td>0.393556</td>\n",
       "      <td>tcp</td>\n",
       "      <td>http</td>\n",
       "      <td>FIN</td>\n",
       "      <td>10</td>\n",
       "      <td>8</td>\n",
       "      <td>860</td>\n",
       "      <td>1096</td>\n",
       "      <td>43.195886</td>\n",
       "      <td>...</td>\n",
       "      <td>1</td>\n",
       "      <td>2</td>\n",
       "      <td>0</td>\n",
       "      <td>0</td>\n",
       "      <td>1</td>\n",
       "      <td>1</td>\n",
       "      <td>3</td>\n",
       "      <td>0</td>\n",
       "      <td>Normal</td>\n",
       "      <td>0</td>\n",
       "    </tr>\n",
       "    <tr>\n",
       "      <th>21</th>\n",
       "      <td>22</td>\n",
       "      <td>0.338017</td>\n",
       "      <td>tcp</td>\n",
       "      <td>http</td>\n",
       "      <td>FIN</td>\n",
       "      <td>10</td>\n",
       "      <td>6</td>\n",
       "      <td>998</td>\n",
       "      <td>268</td>\n",
       "      <td>44.376468</td>\n",
       "      <td>...</td>\n",
       "      <td>1</td>\n",
       "      <td>1</td>\n",
       "      <td>0</td>\n",
       "      <td>0</td>\n",
       "      <td>1</td>\n",
       "      <td>2</td>\n",
       "      <td>3</td>\n",
       "      <td>0</td>\n",
       "      <td>Normal</td>\n",
       "      <td>0</td>\n",
       "    </tr>\n",
       "    <tr>\n",
       "      <th>...</th>\n",
       "      <td>...</td>\n",
       "      <td>...</td>\n",
       "      <td>...</td>\n",
       "      <td>...</td>\n",
       "      <td>...</td>\n",
       "      <td>...</td>\n",
       "      <td>...</td>\n",
       "      <td>...</td>\n",
       "      <td>...</td>\n",
       "      <td>...</td>\n",
       "      <td>...</td>\n",
       "      <td>...</td>\n",
       "      <td>...</td>\n",
       "      <td>...</td>\n",
       "      <td>...</td>\n",
       "      <td>...</td>\n",
       "      <td>...</td>\n",
       "      <td>...</td>\n",
       "      <td>...</td>\n",
       "      <td>...</td>\n",
       "      <td>...</td>\n",
       "    </tr>\n",
       "    <tr>\n",
       "      <th>175335</th>\n",
       "      <td>175336</td>\n",
       "      <td>0.000006</td>\n",
       "      <td>udp</td>\n",
       "      <td>dns</td>\n",
       "      <td>INT</td>\n",
       "      <td>2</td>\n",
       "      <td>0</td>\n",
       "      <td>114</td>\n",
       "      <td>0</td>\n",
       "      <td>166666.660800</td>\n",
       "      <td>...</td>\n",
       "      <td>17</td>\n",
       "      <td>45</td>\n",
       "      <td>0</td>\n",
       "      <td>0</td>\n",
       "      <td>0</td>\n",
       "      <td>33</td>\n",
       "      <td>45</td>\n",
       "      <td>0</td>\n",
       "      <td>Generic</td>\n",
       "      <td>1</td>\n",
       "    </tr>\n",
       "    <tr>\n",
       "      <th>175336</th>\n",
       "      <td>175337</td>\n",
       "      <td>0.000009</td>\n",
       "      <td>udp</td>\n",
       "      <td>dns</td>\n",
       "      <td>INT</td>\n",
       "      <td>2</td>\n",
       "      <td>0</td>\n",
       "      <td>114</td>\n",
       "      <td>0</td>\n",
       "      <td>111111.107200</td>\n",
       "      <td>...</td>\n",
       "      <td>13</td>\n",
       "      <td>24</td>\n",
       "      <td>0</td>\n",
       "      <td>0</td>\n",
       "      <td>0</td>\n",
       "      <td>24</td>\n",
       "      <td>24</td>\n",
       "      <td>0</td>\n",
       "      <td>Generic</td>\n",
       "      <td>1</td>\n",
       "    </tr>\n",
       "    <tr>\n",
       "      <th>175338</th>\n",
       "      <td>175339</td>\n",
       "      <td>0.000009</td>\n",
       "      <td>udp</td>\n",
       "      <td>dns</td>\n",
       "      <td>INT</td>\n",
       "      <td>2</td>\n",
       "      <td>0</td>\n",
       "      <td>114</td>\n",
       "      <td>0</td>\n",
       "      <td>111111.107200</td>\n",
       "      <td>...</td>\n",
       "      <td>3</td>\n",
       "      <td>13</td>\n",
       "      <td>0</td>\n",
       "      <td>0</td>\n",
       "      <td>0</td>\n",
       "      <td>3</td>\n",
       "      <td>12</td>\n",
       "      <td>0</td>\n",
       "      <td>Generic</td>\n",
       "      <td>1</td>\n",
       "    </tr>\n",
       "    <tr>\n",
       "      <th>175339</th>\n",
       "      <td>175340</td>\n",
       "      <td>0.000009</td>\n",
       "      <td>udp</td>\n",
       "      <td>dns</td>\n",
       "      <td>INT</td>\n",
       "      <td>2</td>\n",
       "      <td>0</td>\n",
       "      <td>114</td>\n",
       "      <td>0</td>\n",
       "      <td>111111.107200</td>\n",
       "      <td>...</td>\n",
       "      <td>14</td>\n",
       "      <td>30</td>\n",
       "      <td>0</td>\n",
       "      <td>0</td>\n",
       "      <td>0</td>\n",
       "      <td>30</td>\n",
       "      <td>30</td>\n",
       "      <td>0</td>\n",
       "      <td>Generic</td>\n",
       "      <td>1</td>\n",
       "    </tr>\n",
       "    <tr>\n",
       "      <th>175340</th>\n",
       "      <td>175341</td>\n",
       "      <td>0.000009</td>\n",
       "      <td>udp</td>\n",
       "      <td>dns</td>\n",
       "      <td>INT</td>\n",
       "      <td>2</td>\n",
       "      <td>0</td>\n",
       "      <td>114</td>\n",
       "      <td>0</td>\n",
       "      <td>111111.107200</td>\n",
       "      <td>...</td>\n",
       "      <td>16</td>\n",
       "      <td>30</td>\n",
       "      <td>0</td>\n",
       "      <td>0</td>\n",
       "      <td>0</td>\n",
       "      <td>30</td>\n",
       "      <td>30</td>\n",
       "      <td>0</td>\n",
       "      <td>Generic</td>\n",
       "      <td>1</td>\n",
       "    </tr>\n",
       "  </tbody>\n",
       "</table>\n",
       "<p>81173 rows × 45 columns</p>\n",
       "</div>"
      ],
      "text/plain": [
       "            id       dur proto service state  spkts  dpkts  sbytes  dbytes  \\\n",
       "3            4  1.681642   tcp     ftp   FIN     12     12     628     770   \n",
       "11          12  2.093085   tcp    smtp   FIN     62     28   56329    2212   \n",
       "15          16  0.000002   udp    snmp   INT      2      0     138       0   \n",
       "17          18  0.393556   tcp    http   FIN     10      8     860    1096   \n",
       "21          22  0.338017   tcp    http   FIN     10      6     998     268   \n",
       "...        ...       ...   ...     ...   ...    ...    ...     ...     ...   \n",
       "175335  175336  0.000006   udp     dns   INT      2      0     114       0   \n",
       "175336  175337  0.000009   udp     dns   INT      2      0     114       0   \n",
       "175338  175339  0.000009   udp     dns   INT      2      0     114       0   \n",
       "175339  175340  0.000009   udp     dns   INT      2      0     114       0   \n",
       "175340  175341  0.000009   udp     dns   INT      2      0     114       0   \n",
       "\n",
       "                 rate  ...  ct_dst_sport_ltm  ct_dst_src_ltm  is_ftp_login  \\\n",
       "3           13.677108  ...                 1               3             1   \n",
       "11          42.520967  ...                 1               2             0   \n",
       "15      500000.001300  ...                 1               4             0   \n",
       "17          43.195886  ...                 1               2             0   \n",
       "21          44.376468  ...                 1               1             0   \n",
       "...               ...  ...               ...             ...           ...   \n",
       "175335  166666.660800  ...                17              45             0   \n",
       "175336  111111.107200  ...                13              24             0   \n",
       "175338  111111.107200  ...                 3              13             0   \n",
       "175339  111111.107200  ...                14              30             0   \n",
       "175340  111111.107200  ...                16              30             0   \n",
       "\n",
       "        ct_ftp_cmd  ct_flw_http_mthd  ct_src_ltm  ct_srv_dst  is_sm_ips_ports  \\\n",
       "3                1                 0           2           1                0   \n",
       "11               0                 0           1           1                0   \n",
       "15               0                 0           2           1                0   \n",
       "17               0                 1           1           3                0   \n",
       "21               0                 1           2           3                0   \n",
       "...            ...               ...         ...         ...              ...   \n",
       "175335           0                 0          33          45                0   \n",
       "175336           0                 0          24          24                0   \n",
       "175338           0                 0           3          12                0   \n",
       "175339           0                 0          30          30                0   \n",
       "175340           0                 0          30          30                0   \n",
       "\n",
       "        attack_cat  label  \n",
       "3           Normal      0  \n",
       "11          Normal      0  \n",
       "15          Normal      0  \n",
       "17          Normal      0  \n",
       "21          Normal      0  \n",
       "...            ...    ...  \n",
       "175335     Generic      1  \n",
       "175336     Generic      1  \n",
       "175338     Generic      1  \n",
       "175339     Generic      1  \n",
       "175340     Generic      1  \n",
       "\n",
       "[81173 rows x 45 columns]"
      ]
     },
     "execution_count": 12,
     "metadata": {},
     "output_type": "execute_result"
    }
   ],
   "source": [
    "data"
   ]
  },
  {
   "cell_type": "code",
   "execution_count": 13,
   "metadata": {
    "id": "DGfimWMVFKmr"
   },
   "outputs": [],
   "source": [
    "features = pd.read_csv('datasets/UNSW_NB15_features.csv')"
   ]
  },
  {
   "cell_type": "code",
   "execution_count": 14,
   "metadata": {
    "colab": {
     "base_uri": "https://localhost:8080/",
     "height": 204
    },
    "id": "hrYdxinYvMP9",
    "outputId": "d0e10f0f-42f2-4edc-deee-a2fde81679cd"
   },
   "outputs": [
    {
     "data": {
      "text/html": [
       "<div>\n",
       "<style scoped>\n",
       "    .dataframe tbody tr th:only-of-type {\n",
       "        vertical-align: middle;\n",
       "    }\n",
       "\n",
       "    .dataframe tbody tr th {\n",
       "        vertical-align: top;\n",
       "    }\n",
       "\n",
       "    .dataframe thead th {\n",
       "        text-align: right;\n",
       "    }\n",
       "</style>\n",
       "<table border=\"1\" class=\"dataframe\">\n",
       "  <thead>\n",
       "    <tr style=\"text-align: right;\">\n",
       "      <th></th>\n",
       "      <th>No.</th>\n",
       "      <th>Name</th>\n",
       "      <th>Type</th>\n",
       "      <th>Description</th>\n",
       "    </tr>\n",
       "  </thead>\n",
       "  <tbody>\n",
       "    <tr>\n",
       "      <th>0</th>\n",
       "      <td>1</td>\n",
       "      <td>srcip</td>\n",
       "      <td>nominal</td>\n",
       "      <td>Source IP address</td>\n",
       "    </tr>\n",
       "    <tr>\n",
       "      <th>1</th>\n",
       "      <td>2</td>\n",
       "      <td>sport</td>\n",
       "      <td>integer</td>\n",
       "      <td>Source port number</td>\n",
       "    </tr>\n",
       "    <tr>\n",
       "      <th>2</th>\n",
       "      <td>3</td>\n",
       "      <td>dstip</td>\n",
       "      <td>nominal</td>\n",
       "      <td>Destination IP address</td>\n",
       "    </tr>\n",
       "    <tr>\n",
       "      <th>3</th>\n",
       "      <td>4</td>\n",
       "      <td>dsport</td>\n",
       "      <td>integer</td>\n",
       "      <td>Destination port number</td>\n",
       "    </tr>\n",
       "    <tr>\n",
       "      <th>4</th>\n",
       "      <td>5</td>\n",
       "      <td>proto</td>\n",
       "      <td>nominal</td>\n",
       "      <td>Transaction protocol</td>\n",
       "    </tr>\n",
       "  </tbody>\n",
       "</table>\n",
       "</div>"
      ],
      "text/plain": [
       "   No.    Name    Type               Description\n",
       "0    1   srcip  nominal        Source IP address\n",
       "1    2   sport  integer       Source port number\n",
       "2    3   dstip  nominal   Destination IP address\n",
       "3    4  dsport  integer  Destination port number\n",
       "4    5   proto  nominal     Transaction protocol"
      ]
     },
     "execution_count": 14,
     "metadata": {},
     "output_type": "execute_result"
    }
   ],
   "source": [
    "features.head()"
   ]
  },
  {
   "cell_type": "code",
   "execution_count": 15,
   "metadata": {
    "id": "jT53NXCYfQDX"
   },
   "outputs": [],
   "source": [
    "features['Type '] = features['Type '].str.lower()"
   ]
  },
  {
   "cell_type": "code",
   "execution_count": 16,
   "metadata": {
    "id": "4UifBmzfc7Mx"
   },
   "outputs": [],
   "source": [
    "# selecting column names of all data types\n",
    "nominal_names = features['Name'][features['Type ']=='nominal']\n",
    "integer_names = features['Name'][features['Type ']=='integer']\n",
    "binary_names = features['Name'][features['Type ']=='binary']\n",
    "float_names = features['Name'][features['Type ']=='float']"
   ]
  },
  {
   "cell_type": "code",
   "execution_count": 17,
   "metadata": {
    "colab": {
     "background_save": true
    },
    "id": "Sc2ttPn6r7Tz"
   },
   "outputs": [],
   "source": [
    "# selecting common column names from dataset and feature dataset\n",
    "cols = data.columns\n",
    "nominal_names = cols.intersection(nominal_names)\n",
    "integer_names = cols.intersection(integer_names)\n",
    "binary_names = cols.intersection(binary_names)\n",
    "float_names = cols.intersection(float_names)"
   ]
  },
  {
   "cell_type": "code",
   "execution_count": 18,
   "metadata": {
    "colab": {
     "background_save": true
    },
    "id": "f-z_BVLyu0vE"
   },
   "outputs": [],
   "source": [
    "# Converting integer columns to numeric\n",
    "for c in integer_names:\n",
    "  pd.to_numeric(data[c])"
   ]
  },
  {
   "cell_type": "code",
   "execution_count": 19,
   "metadata": {
    "colab": {
     "background_save": true
    },
    "id": "hc_tnXdGvkpD"
   },
   "outputs": [],
   "source": [
    "# Converting binary columns to numeric\n",
    "for c in binary_names:\n",
    "  pd.to_numeric(data[c])"
   ]
  },
  {
   "cell_type": "code",
   "execution_count": 20,
   "metadata": {
    "colab": {
     "background_save": true
    },
    "id": "M3uJUVe9vpyx"
   },
   "outputs": [],
   "source": [
    "# Converting float columns to numeric\n",
    "for c in float_names:\n",
    "  pd.to_numeric(data[c])"
   ]
  },
  {
   "cell_type": "code",
   "execution_count": 21,
   "metadata": {
    "colab": {
     "background_save": true,
     "base_uri": "https://localhost:8080/"
    },
    "id": "JHfR566WrIr6",
    "outputId": "31a815e5-ef87-4748-c01a-0a2fe3bd85af"
   },
   "outputs": [
    {
     "name": "stdout",
     "output_type": "stream",
     "text": [
      "<class 'pandas.core.frame.DataFrame'>\n",
      "Int64Index: 81173 entries, 3 to 175340\n",
      "Data columns (total 45 columns):\n",
      " #   Column             Non-Null Count  Dtype  \n",
      "---  ------             --------------  -----  \n",
      " 0   id                 81173 non-null  int64  \n",
      " 1   dur                81173 non-null  float64\n",
      " 2   proto              81173 non-null  object \n",
      " 3   service            81173 non-null  object \n",
      " 4   state              81173 non-null  object \n",
      " 5   spkts              81173 non-null  int64  \n",
      " 6   dpkts              81173 non-null  int64  \n",
      " 7   sbytes             81173 non-null  int64  \n",
      " 8   dbytes             81173 non-null  int64  \n",
      " 9   rate               81173 non-null  float64\n",
      " 10  sttl               81173 non-null  int64  \n",
      " 11  dttl               81173 non-null  int64  \n",
      " 12  sload              81173 non-null  float64\n",
      " 13  dload              81173 non-null  float64\n",
      " 14  sloss              81173 non-null  int64  \n",
      " 15  dloss              81173 non-null  int64  \n",
      " 16  sinpkt             81173 non-null  float64\n",
      " 17  dinpkt             81173 non-null  float64\n",
      " 18  sjit               81173 non-null  float64\n",
      " 19  djit               81173 non-null  float64\n",
      " 20  swin               81173 non-null  int64  \n",
      " 21  stcpb              81173 non-null  int64  \n",
      " 22  dtcpb              81173 non-null  int64  \n",
      " 23  dwin               81173 non-null  int64  \n",
      " 24  tcprtt             81173 non-null  float64\n",
      " 25  synack             81173 non-null  float64\n",
      " 26  ackdat             81173 non-null  float64\n",
      " 27  smean              81173 non-null  int64  \n",
      " 28  dmean              81173 non-null  int64  \n",
      " 29  trans_depth        81173 non-null  int64  \n",
      " 30  response_body_len  81173 non-null  int64  \n",
      " 31  ct_srv_src         81173 non-null  int64  \n",
      " 32  ct_state_ttl       81173 non-null  int64  \n",
      " 33  ct_dst_ltm         81173 non-null  int64  \n",
      " 34  ct_src_dport_ltm   81173 non-null  int64  \n",
      " 35  ct_dst_sport_ltm   81173 non-null  int64  \n",
      " 36  ct_dst_src_ltm     81173 non-null  int64  \n",
      " 37  is_ftp_login       81173 non-null  int64  \n",
      " 38  ct_ftp_cmd         81173 non-null  int64  \n",
      " 39  ct_flw_http_mthd   81173 non-null  int64  \n",
      " 40  ct_src_ltm         81173 non-null  int64  \n",
      " 41  ct_srv_dst         81173 non-null  int64  \n",
      " 42  is_sm_ips_ports    81173 non-null  int64  \n",
      " 43  attack_cat         81173 non-null  object \n",
      " 44  label              81173 non-null  int64  \n",
      "dtypes: float64(11), int64(30), object(4)\n",
      "memory usage: 28.5+ MB\n"
     ]
    }
   ],
   "source": [
    "data.info()"
   ]
  },
  {
   "cell_type": "code",
   "execution_count": 22,
   "metadata": {
    "colab": {
     "background_save": true,
     "base_uri": "https://localhost:8080/",
     "height": 439
    },
    "id": "heqj3TJmv2B4",
    "outputId": "ae5525e8-c1cc-4707-aa88-9b33a16a75ab"
   },
   "outputs": [
    {
     "data": {
      "text/html": [
       "<div>\n",
       "<style scoped>\n",
       "    .dataframe tbody tr th:only-of-type {\n",
       "        vertical-align: middle;\n",
       "    }\n",
       "\n",
       "    .dataframe tbody tr th {\n",
       "        vertical-align: top;\n",
       "    }\n",
       "\n",
       "    .dataframe thead th {\n",
       "        text-align: right;\n",
       "    }\n",
       "</style>\n",
       "<table border=\"1\" class=\"dataframe\">\n",
       "  <thead>\n",
       "    <tr style=\"text-align: right;\">\n",
       "      <th></th>\n",
       "      <th>id</th>\n",
       "      <th>dur</th>\n",
       "      <th>proto</th>\n",
       "      <th>service</th>\n",
       "      <th>state</th>\n",
       "      <th>spkts</th>\n",
       "      <th>dpkts</th>\n",
       "      <th>sbytes</th>\n",
       "      <th>dbytes</th>\n",
       "      <th>rate</th>\n",
       "      <th>...</th>\n",
       "      <th>ct_dst_sport_ltm</th>\n",
       "      <th>ct_dst_src_ltm</th>\n",
       "      <th>is_ftp_login</th>\n",
       "      <th>ct_ftp_cmd</th>\n",
       "      <th>ct_flw_http_mthd</th>\n",
       "      <th>ct_src_ltm</th>\n",
       "      <th>ct_srv_dst</th>\n",
       "      <th>is_sm_ips_ports</th>\n",
       "      <th>attack_cat</th>\n",
       "      <th>label</th>\n",
       "    </tr>\n",
       "  </thead>\n",
       "  <tbody>\n",
       "    <tr>\n",
       "      <th>3</th>\n",
       "      <td>4</td>\n",
       "      <td>1.681642</td>\n",
       "      <td>tcp</td>\n",
       "      <td>ftp</td>\n",
       "      <td>FIN</td>\n",
       "      <td>12</td>\n",
       "      <td>12</td>\n",
       "      <td>628</td>\n",
       "      <td>770</td>\n",
       "      <td>13.677108</td>\n",
       "      <td>...</td>\n",
       "      <td>1</td>\n",
       "      <td>3</td>\n",
       "      <td>1</td>\n",
       "      <td>1</td>\n",
       "      <td>0</td>\n",
       "      <td>2</td>\n",
       "      <td>1</td>\n",
       "      <td>0</td>\n",
       "      <td>Normal</td>\n",
       "      <td>0</td>\n",
       "    </tr>\n",
       "    <tr>\n",
       "      <th>11</th>\n",
       "      <td>12</td>\n",
       "      <td>2.093085</td>\n",
       "      <td>tcp</td>\n",
       "      <td>smtp</td>\n",
       "      <td>FIN</td>\n",
       "      <td>62</td>\n",
       "      <td>28</td>\n",
       "      <td>56329</td>\n",
       "      <td>2212</td>\n",
       "      <td>42.520967</td>\n",
       "      <td>...</td>\n",
       "      <td>1</td>\n",
       "      <td>2</td>\n",
       "      <td>0</td>\n",
       "      <td>0</td>\n",
       "      <td>0</td>\n",
       "      <td>1</td>\n",
       "      <td>1</td>\n",
       "      <td>0</td>\n",
       "      <td>Normal</td>\n",
       "      <td>0</td>\n",
       "    </tr>\n",
       "    <tr>\n",
       "      <th>15</th>\n",
       "      <td>16</td>\n",
       "      <td>0.000002</td>\n",
       "      <td>udp</td>\n",
       "      <td>snmp</td>\n",
       "      <td>INT</td>\n",
       "      <td>2</td>\n",
       "      <td>0</td>\n",
       "      <td>138</td>\n",
       "      <td>0</td>\n",
       "      <td>500000.001300</td>\n",
       "      <td>...</td>\n",
       "      <td>1</td>\n",
       "      <td>4</td>\n",
       "      <td>0</td>\n",
       "      <td>0</td>\n",
       "      <td>0</td>\n",
       "      <td>2</td>\n",
       "      <td>1</td>\n",
       "      <td>0</td>\n",
       "      <td>Normal</td>\n",
       "      <td>0</td>\n",
       "    </tr>\n",
       "    <tr>\n",
       "      <th>17</th>\n",
       "      <td>18</td>\n",
       "      <td>0.393556</td>\n",
       "      <td>tcp</td>\n",
       "      <td>http</td>\n",
       "      <td>FIN</td>\n",
       "      <td>10</td>\n",
       "      <td>8</td>\n",
       "      <td>860</td>\n",
       "      <td>1096</td>\n",
       "      <td>43.195886</td>\n",
       "      <td>...</td>\n",
       "      <td>1</td>\n",
       "      <td>2</td>\n",
       "      <td>0</td>\n",
       "      <td>0</td>\n",
       "      <td>1</td>\n",
       "      <td>1</td>\n",
       "      <td>3</td>\n",
       "      <td>0</td>\n",
       "      <td>Normal</td>\n",
       "      <td>0</td>\n",
       "    </tr>\n",
       "    <tr>\n",
       "      <th>21</th>\n",
       "      <td>22</td>\n",
       "      <td>0.338017</td>\n",
       "      <td>tcp</td>\n",
       "      <td>http</td>\n",
       "      <td>FIN</td>\n",
       "      <td>10</td>\n",
       "      <td>6</td>\n",
       "      <td>998</td>\n",
       "      <td>268</td>\n",
       "      <td>44.376468</td>\n",
       "      <td>...</td>\n",
       "      <td>1</td>\n",
       "      <td>1</td>\n",
       "      <td>0</td>\n",
       "      <td>0</td>\n",
       "      <td>1</td>\n",
       "      <td>2</td>\n",
       "      <td>3</td>\n",
       "      <td>0</td>\n",
       "      <td>Normal</td>\n",
       "      <td>0</td>\n",
       "    </tr>\n",
       "    <tr>\n",
       "      <th>...</th>\n",
       "      <td>...</td>\n",
       "      <td>...</td>\n",
       "      <td>...</td>\n",
       "      <td>...</td>\n",
       "      <td>...</td>\n",
       "      <td>...</td>\n",
       "      <td>...</td>\n",
       "      <td>...</td>\n",
       "      <td>...</td>\n",
       "      <td>...</td>\n",
       "      <td>...</td>\n",
       "      <td>...</td>\n",
       "      <td>...</td>\n",
       "      <td>...</td>\n",
       "      <td>...</td>\n",
       "      <td>...</td>\n",
       "      <td>...</td>\n",
       "      <td>...</td>\n",
       "      <td>...</td>\n",
       "      <td>...</td>\n",
       "      <td>...</td>\n",
       "    </tr>\n",
       "    <tr>\n",
       "      <th>175335</th>\n",
       "      <td>175336</td>\n",
       "      <td>0.000006</td>\n",
       "      <td>udp</td>\n",
       "      <td>dns</td>\n",
       "      <td>INT</td>\n",
       "      <td>2</td>\n",
       "      <td>0</td>\n",
       "      <td>114</td>\n",
       "      <td>0</td>\n",
       "      <td>166666.660800</td>\n",
       "      <td>...</td>\n",
       "      <td>17</td>\n",
       "      <td>45</td>\n",
       "      <td>0</td>\n",
       "      <td>0</td>\n",
       "      <td>0</td>\n",
       "      <td>33</td>\n",
       "      <td>45</td>\n",
       "      <td>0</td>\n",
       "      <td>Generic</td>\n",
       "      <td>1</td>\n",
       "    </tr>\n",
       "    <tr>\n",
       "      <th>175336</th>\n",
       "      <td>175337</td>\n",
       "      <td>0.000009</td>\n",
       "      <td>udp</td>\n",
       "      <td>dns</td>\n",
       "      <td>INT</td>\n",
       "      <td>2</td>\n",
       "      <td>0</td>\n",
       "      <td>114</td>\n",
       "      <td>0</td>\n",
       "      <td>111111.107200</td>\n",
       "      <td>...</td>\n",
       "      <td>13</td>\n",
       "      <td>24</td>\n",
       "      <td>0</td>\n",
       "      <td>0</td>\n",
       "      <td>0</td>\n",
       "      <td>24</td>\n",
       "      <td>24</td>\n",
       "      <td>0</td>\n",
       "      <td>Generic</td>\n",
       "      <td>1</td>\n",
       "    </tr>\n",
       "    <tr>\n",
       "      <th>175338</th>\n",
       "      <td>175339</td>\n",
       "      <td>0.000009</td>\n",
       "      <td>udp</td>\n",
       "      <td>dns</td>\n",
       "      <td>INT</td>\n",
       "      <td>2</td>\n",
       "      <td>0</td>\n",
       "      <td>114</td>\n",
       "      <td>0</td>\n",
       "      <td>111111.107200</td>\n",
       "      <td>...</td>\n",
       "      <td>3</td>\n",
       "      <td>13</td>\n",
       "      <td>0</td>\n",
       "      <td>0</td>\n",
       "      <td>0</td>\n",
       "      <td>3</td>\n",
       "      <td>12</td>\n",
       "      <td>0</td>\n",
       "      <td>Generic</td>\n",
       "      <td>1</td>\n",
       "    </tr>\n",
       "    <tr>\n",
       "      <th>175339</th>\n",
       "      <td>175340</td>\n",
       "      <td>0.000009</td>\n",
       "      <td>udp</td>\n",
       "      <td>dns</td>\n",
       "      <td>INT</td>\n",
       "      <td>2</td>\n",
       "      <td>0</td>\n",
       "      <td>114</td>\n",
       "      <td>0</td>\n",
       "      <td>111111.107200</td>\n",
       "      <td>...</td>\n",
       "      <td>14</td>\n",
       "      <td>30</td>\n",
       "      <td>0</td>\n",
       "      <td>0</td>\n",
       "      <td>0</td>\n",
       "      <td>30</td>\n",
       "      <td>30</td>\n",
       "      <td>0</td>\n",
       "      <td>Generic</td>\n",
       "      <td>1</td>\n",
       "    </tr>\n",
       "    <tr>\n",
       "      <th>175340</th>\n",
       "      <td>175341</td>\n",
       "      <td>0.000009</td>\n",
       "      <td>udp</td>\n",
       "      <td>dns</td>\n",
       "      <td>INT</td>\n",
       "      <td>2</td>\n",
       "      <td>0</td>\n",
       "      <td>114</td>\n",
       "      <td>0</td>\n",
       "      <td>111111.107200</td>\n",
       "      <td>...</td>\n",
       "      <td>16</td>\n",
       "      <td>30</td>\n",
       "      <td>0</td>\n",
       "      <td>0</td>\n",
       "      <td>0</td>\n",
       "      <td>30</td>\n",
       "      <td>30</td>\n",
       "      <td>0</td>\n",
       "      <td>Generic</td>\n",
       "      <td>1</td>\n",
       "    </tr>\n",
       "  </tbody>\n",
       "</table>\n",
       "<p>81173 rows × 45 columns</p>\n",
       "</div>"
      ],
      "text/plain": [
       "            id       dur proto service state  spkts  dpkts  sbytes  dbytes  \\\n",
       "3            4  1.681642   tcp     ftp   FIN     12     12     628     770   \n",
       "11          12  2.093085   tcp    smtp   FIN     62     28   56329    2212   \n",
       "15          16  0.000002   udp    snmp   INT      2      0     138       0   \n",
       "17          18  0.393556   tcp    http   FIN     10      8     860    1096   \n",
       "21          22  0.338017   tcp    http   FIN     10      6     998     268   \n",
       "...        ...       ...   ...     ...   ...    ...    ...     ...     ...   \n",
       "175335  175336  0.000006   udp     dns   INT      2      0     114       0   \n",
       "175336  175337  0.000009   udp     dns   INT      2      0     114       0   \n",
       "175338  175339  0.000009   udp     dns   INT      2      0     114       0   \n",
       "175339  175340  0.000009   udp     dns   INT      2      0     114       0   \n",
       "175340  175341  0.000009   udp     dns   INT      2      0     114       0   \n",
       "\n",
       "                 rate  ...  ct_dst_sport_ltm  ct_dst_src_ltm  is_ftp_login  \\\n",
       "3           13.677108  ...                 1               3             1   \n",
       "11          42.520967  ...                 1               2             0   \n",
       "15      500000.001300  ...                 1               4             0   \n",
       "17          43.195886  ...                 1               2             0   \n",
       "21          44.376468  ...                 1               1             0   \n",
       "...               ...  ...               ...             ...           ...   \n",
       "175335  166666.660800  ...                17              45             0   \n",
       "175336  111111.107200  ...                13              24             0   \n",
       "175338  111111.107200  ...                 3              13             0   \n",
       "175339  111111.107200  ...                14              30             0   \n",
       "175340  111111.107200  ...                16              30             0   \n",
       "\n",
       "        ct_ftp_cmd  ct_flw_http_mthd  ct_src_ltm  ct_srv_dst  is_sm_ips_ports  \\\n",
       "3                1                 0           2           1                0   \n",
       "11               0                 0           1           1                0   \n",
       "15               0                 0           2           1                0   \n",
       "17               0                 1           1           3                0   \n",
       "21               0                 1           2           3                0   \n",
       "...            ...               ...         ...         ...              ...   \n",
       "175335           0                 0          33          45                0   \n",
       "175336           0                 0          24          24                0   \n",
       "175338           0                 0           3          12                0   \n",
       "175339           0                 0          30          30                0   \n",
       "175340           0                 0          30          30                0   \n",
       "\n",
       "        attack_cat  label  \n",
       "3           Normal      0  \n",
       "11          Normal      0  \n",
       "15          Normal      0  \n",
       "17          Normal      0  \n",
       "21          Normal      0  \n",
       "...            ...    ...  \n",
       "175335     Generic      1  \n",
       "175336     Generic      1  \n",
       "175338     Generic      1  \n",
       "175339     Generic      1  \n",
       "175340     Generic      1  \n",
       "\n",
       "[81173 rows x 45 columns]"
      ]
     },
     "execution_count": 22,
     "metadata": {},
     "output_type": "execute_result"
    }
   ],
   "source": [
    "data"
   ]
  },
  {
   "cell_type": "markdown",
   "metadata": {
    "id": "jExFVizROS-C"
   },
   "source": [
    "# **Data Visualization**"
   ]
  },
  {
   "cell_type": "markdown",
   "metadata": {
    "id": "o9UEifPZoKC1"
   },
   "source": [
    "## **Binary Classification**"
   ]
  },
  {
   "cell_type": "code",
   "execution_count": 23,
   "metadata": {
    "colab": {
     "background_save": true,
     "base_uri": "https://localhost:8080/",
     "height": 484
    },
    "id": "iDzUyKPRm4x3",
    "outputId": "605c803b-b14a-471a-f795-d2196d82a585"
   },
   "outputs": [
    {
     "data": {
      "image/png": "[encoded data removed]",
      "text/plain": [
       "<Figure size 576x576 with 1 Axes>"
      ]
     },
     "metadata": {},
     "output_type": "display_data"
    }
   ],
   "source": [
    "plt.figure(figsize=(8,8))\n",
    "plt.pie(data.label.value_counts(),labels=['normal','abnormal'],autopct='%0.2f%%')\n",
    "plt.title(\"Pie chart distribution of normal and abnormal labels\",fontsize=16)\n",
    "plt.legend()\n",
    "plt.savefig('plots/Pie_chart_binary.png')\n",
    "plt.show()"
   ]
  },
  {
   "cell_type": "markdown",
   "metadata": {
    "id": "UXGvReKgoN57"
   },
   "source": [
    "## **Multi-class Classification**"
   ]
  },
  {
   "cell_type": "code",
   "execution_count": 24,
   "metadata": {
    "colab": {
     "base_uri": "https://localhost:8080/",
     "height": 482
    },
    "id": "6hX-4d1dncqJ",
    "outputId": "8b260eb7-e34a-449f-8e4c-617bd59640e3"
   },
   "outputs": [
    {
     "data": {
      "image/png": "[encoded data removed]",
      "text/plain": [
       "<Figure size 576x576 with 1 Axes>"
      ]
     },
     "metadata": {},
     "output_type": "display_data"
    }
   ],
   "source": [
    "plt.figure(figsize=(8,8))\n",
    "plt.pie(data.attack_cat.value_counts(),labels=data.attack_cat.unique(),autopct='%0.2f%%')\n",
    "plt.title('Pie chart distribution of multi-class labels')\n",
    "plt.legend(loc='best')\n",
    "plt.savefig('plots/Pie_chart_multi.png')\n",
    "plt.show()"
   ]
  },
  {
   "cell_type": "markdown",
   "metadata": {
    "id": "ovwkzHTyM1vB"
   },
   "source": [
    "# **One hot encoding**"
   ]
  },
  {
   "cell_type": "code",
   "execution_count": 25,
   "metadata": {
    "colab": {
     "base_uri": "https://localhost:8080/"
    },
    "id": "dZX0Je4EM5ta",
    "outputId": "fe11efcd-32e2-47dd-8a7c-529688e28712"
   },
   "outputs": [
    {
     "data": {
      "text/plain": [
       "Index(['proto', 'service', 'state'], dtype='object')"
      ]
     },
     "execution_count": 25,
     "metadata": {},
     "output_type": "execute_result"
    }
   ],
   "source": [
    "num_col = data.select_dtypes(include='number').columns\n",
    "\n",
    "# selecting categorical data attributes\n",
    "cat_col = data.columns.difference(num_col)\n",
    "cat_col = cat_col[1:]\n",
    "cat_col"
   ]
  },
  {
   "cell_type": "code",
   "execution_count": 26,
   "metadata": {
    "colab": {
     "base_uri": "https://localhost:8080/",
     "height": 204
    },
    "id": "DxnGrVa1Odma",
    "outputId": "59215629-bfda-424e-925a-5cc49a2402b4"
   },
   "outputs": [
    {
     "data": {
      "text/html": [
       "<div>\n",
       "<style scoped>\n",
       "    .dataframe tbody tr th:only-of-type {\n",
       "        vertical-align: middle;\n",
       "    }\n",
       "\n",
       "    .dataframe tbody tr th {\n",
       "        vertical-align: top;\n",
       "    }\n",
       "\n",
       "    .dataframe thead th {\n",
       "        text-align: right;\n",
       "    }\n",
       "</style>\n",
       "<table border=\"1\" class=\"dataframe\">\n",
       "  <thead>\n",
       "    <tr style=\"text-align: right;\">\n",
       "      <th></th>\n",
       "      <th>proto</th>\n",
       "      <th>service</th>\n",
       "      <th>state</th>\n",
       "    </tr>\n",
       "  </thead>\n",
       "  <tbody>\n",
       "    <tr>\n",
       "      <th>3</th>\n",
       "      <td>tcp</td>\n",
       "      <td>ftp</td>\n",
       "      <td>FIN</td>\n",
       "    </tr>\n",
       "    <tr>\n",
       "      <th>11</th>\n",
       "      <td>tcp</td>\n",
       "      <td>smtp</td>\n",
       "      <td>FIN</td>\n",
       "    </tr>\n",
       "    <tr>\n",
       "      <th>15</th>\n",
       "      <td>udp</td>\n",
       "      <td>snmp</td>\n",
       "      <td>INT</td>\n",
       "    </tr>\n",
       "    <tr>\n",
       "      <th>17</th>\n",
       "      <td>tcp</td>\n",
       "      <td>http</td>\n",
       "      <td>FIN</td>\n",
       "    </tr>\n",
       "    <tr>\n",
       "      <th>21</th>\n",
       "      <td>tcp</td>\n",
       "      <td>http</td>\n",
       "      <td>FIN</td>\n",
       "    </tr>\n",
       "  </tbody>\n",
       "</table>\n",
       "</div>"
      ],
      "text/plain": [
       "   proto service state\n",
       "3    tcp     ftp   FIN\n",
       "11   tcp    smtp   FIN\n",
       "15   udp    snmp   INT\n",
       "17   tcp    http   FIN\n",
       "21   tcp    http   FIN"
      ]
     },
     "execution_count": 26,
     "metadata": {},
     "output_type": "execute_result"
    }
   ],
   "source": [
    "# creating a dataframe with only categorical attributes\n",
    "data_cat = data[cat_col].copy()\n",
    "data_cat.head()"
   ]
  },
  {
   "cell_type": "code",
   "execution_count": 27,
   "metadata": {
    "id": "E6cnwo01NHP_"
   },
   "outputs": [],
   "source": [
    "# one-hot-encoding categorical attributes using pandas.get_dummies() function\n",
    "data_cat = pd.get_dummies(data_cat,columns=cat_col)"
   ]
  },
  {
   "cell_type": "code",
   "execution_count": 28,
   "metadata": {
    "colab": {
     "base_uri": "https://localhost:8080/",
     "height": 241
    },
    "id": "UM8ooeRcNOoU",
    "outputId": "0d2b6495-7965-41ba-aa20-21563617411e"
   },
   "outputs": [
    {
     "data": {
      "text/html": [
       "<div>\n",
       "<style scoped>\n",
       "    .dataframe tbody tr th:only-of-type {\n",
       "        vertical-align: middle;\n",
       "    }\n",
       "\n",
       "    .dataframe tbody tr th {\n",
       "        vertical-align: top;\n",
       "    }\n",
       "\n",
       "    .dataframe thead th {\n",
       "        text-align: right;\n",
       "    }\n",
       "</style>\n",
       "<table border=\"1\" class=\"dataframe\">\n",
       "  <thead>\n",
       "    <tr style=\"text-align: right;\">\n",
       "      <th></th>\n",
       "      <th>proto_tcp</th>\n",
       "      <th>proto_udp</th>\n",
       "      <th>service_dhcp</th>\n",
       "      <th>service_dns</th>\n",
       "      <th>service_ftp</th>\n",
       "      <th>service_ftp-data</th>\n",
       "      <th>service_http</th>\n",
       "      <th>service_irc</th>\n",
       "      <th>service_pop3</th>\n",
       "      <th>service_radius</th>\n",
       "      <th>service_smtp</th>\n",
       "      <th>service_snmp</th>\n",
       "      <th>service_ssh</th>\n",
       "      <th>service_ssl</th>\n",
       "      <th>state_CON</th>\n",
       "      <th>state_FIN</th>\n",
       "      <th>state_INT</th>\n",
       "      <th>state_REQ</th>\n",
       "      <th>state_RST</th>\n",
       "    </tr>\n",
       "  </thead>\n",
       "  <tbody>\n",
       "    <tr>\n",
       "      <th>3</th>\n",
       "      <td>1</td>\n",
       "      <td>0</td>\n",
       "      <td>0</td>\n",
       "      <td>0</td>\n",
       "      <td>1</td>\n",
       "      <td>0</td>\n",
       "      <td>0</td>\n",
       "      <td>0</td>\n",
       "      <td>0</td>\n",
       "      <td>0</td>\n",
       "      <td>0</td>\n",
       "      <td>0</td>\n",
       "      <td>0</td>\n",
       "      <td>0</td>\n",
       "      <td>0</td>\n",
       "      <td>1</td>\n",
       "      <td>0</td>\n",
       "      <td>0</td>\n",
       "      <td>0</td>\n",
       "    </tr>\n",
       "    <tr>\n",
       "      <th>11</th>\n",
       "      <td>1</td>\n",
       "      <td>0</td>\n",
       "      <td>0</td>\n",
       "      <td>0</td>\n",
       "      <td>0</td>\n",
       "      <td>0</td>\n",
       "      <td>0</td>\n",
       "      <td>0</td>\n",
       "      <td>0</td>\n",
       "      <td>0</td>\n",
       "      <td>1</td>\n",
       "      <td>0</td>\n",
       "      <td>0</td>\n",
       "      <td>0</td>\n",
       "      <td>0</td>\n",
       "      <td>1</td>\n",
       "      <td>0</td>\n",
       "      <td>0</td>\n",
       "      <td>0</td>\n",
       "    </tr>\n",
       "    <tr>\n",
       "      <th>15</th>\n",
       "      <td>0</td>\n",
       "      <td>1</td>\n",
       "      <td>0</td>\n",
       "      <td>0</td>\n",
       "      <td>0</td>\n",
       "      <td>0</td>\n",
       "      <td>0</td>\n",
       "      <td>0</td>\n",
       "      <td>0</td>\n",
       "      <td>0</td>\n",
       "      <td>0</td>\n",
       "      <td>1</td>\n",
       "      <td>0</td>\n",
       "      <td>0</td>\n",
       "      <td>0</td>\n",
       "      <td>0</td>\n",
       "      <td>1</td>\n",
       "      <td>0</td>\n",
       "      <td>0</td>\n",
       "    </tr>\n",
       "    <tr>\n",
       "      <th>17</th>\n",
       "      <td>1</td>\n",
       "      <td>0</td>\n",
       "      <td>0</td>\n",
       "      <td>0</td>\n",
       "      <td>0</td>\n",
       "      <td>0</td>\n",
       "      <td>1</td>\n",
       "      <td>0</td>\n",
       "      <td>0</td>\n",
       "      <td>0</td>\n",
       "      <td>0</td>\n",
       "      <td>0</td>\n",
       "      <td>0</td>\n",
       "      <td>0</td>\n",
       "      <td>0</td>\n",
       "      <td>1</td>\n",
       "      <td>0</td>\n",
       "      <td>0</td>\n",
       "      <td>0</td>\n",
       "    </tr>\n",
       "    <tr>\n",
       "      <th>21</th>\n",
       "      <td>1</td>\n",
       "      <td>0</td>\n",
       "      <td>0</td>\n",
       "      <td>0</td>\n",
       "      <td>0</td>\n",
       "      <td>0</td>\n",
       "      <td>1</td>\n",
       "      <td>0</td>\n",
       "      <td>0</td>\n",
       "      <td>0</td>\n",
       "      <td>0</td>\n",
       "      <td>0</td>\n",
       "      <td>0</td>\n",
       "      <td>0</td>\n",
       "      <td>0</td>\n",
       "      <td>1</td>\n",
       "      <td>0</td>\n",
       "      <td>0</td>\n",
       "      <td>0</td>\n",
       "    </tr>\n",
       "  </tbody>\n",
       "</table>\n",
       "</div>"
      ],
      "text/plain": [
       "    proto_tcp  proto_udp  service_dhcp  service_dns  service_ftp  \\\n",
       "3           1          0             0            0            1   \n",
       "11          1          0             0            0            0   \n",
       "15          0          1             0            0            0   \n",
       "17          1          0             0            0            0   \n",
       "21          1          0             0            0            0   \n",
       "\n",
       "    service_ftp-data  service_http  service_irc  service_pop3  service_radius  \\\n",
       "3                  0             0            0             0               0   \n",
       "11                 0             0            0             0               0   \n",
       "15                 0             0            0             0               0   \n",
       "17                 0             1            0             0               0   \n",
       "21                 0             1            0             0               0   \n",
       "\n",
       "    service_smtp  service_snmp  service_ssh  service_ssl  state_CON  \\\n",
       "3              0             0            0            0          0   \n",
       "11             1             0            0            0          0   \n",
       "15             0             1            0            0          0   \n",
       "17             0             0            0            0          0   \n",
       "21             0             0            0            0          0   \n",
       "\n",
       "    state_FIN  state_INT  state_REQ  state_RST  \n",
       "3           1          0          0          0  \n",
       "11          1          0          0          0  \n",
       "15          0          1          0          0  \n",
       "17          1          0          0          0  \n",
       "21          1          0          0          0  "
      ]
     },
     "execution_count": 28,
     "metadata": {},
     "output_type": "execute_result"
    }
   ],
   "source": [
    "data_cat.head()"
   ]
  },
  {
   "cell_type": "code",
   "execution_count": 29,
   "metadata": {
    "colab": {
     "base_uri": "https://localhost:8080/"
    },
    "id": "cHH1hw8zNYfK",
    "outputId": "3670dcc8-37e2-4244-c41a-644e8ca3b73e"
   },
   "outputs": [
    {
     "data": {
      "text/plain": [
       "(81173, 45)"
      ]
     },
     "execution_count": 29,
     "metadata": {},
     "output_type": "execute_result"
    }
   ],
   "source": [
    "data.shape"
   ]
  },
  {
   "cell_type": "code",
   "execution_count": 30,
   "metadata": {
    "id": "oO6juQh4NQxL"
   },
   "outputs": [],
   "source": [
    "data = pd.concat([data, data_cat],axis=1)"
   ]
  },
  {
   "cell_type": "code",
   "execution_count": 31,
   "metadata": {
    "colab": {
     "base_uri": "https://localhost:8080/"
    },
    "id": "_bV3F4v9Ndo6",
    "outputId": "e12f3e3d-4ee4-4851-9374-3bfd0b3b0ba0"
   },
   "outputs": [
    {
     "data": {
      "text/plain": [
       "(81173, 64)"
      ]
     },
     "execution_count": 31,
     "metadata": {},
     "output_type": "execute_result"
    }
   ],
   "source": [
    "data.shape"
   ]
  },
  {
   "cell_type": "code",
   "execution_count": 32,
   "metadata": {
    "id": "C0nK7HFmNe8w"
   },
   "outputs": [],
   "source": [
    "data.drop(columns=cat_col,inplace=True)"
   ]
  },
  {
   "cell_type": "code",
   "execution_count": 33,
   "metadata": {
    "colab": {
     "base_uri": "https://localhost:8080/"
    },
    "id": "o0s5ecSQNgGM",
    "outputId": "9fa262be-64fd-4695-df04-269f206be03f"
   },
   "outputs": [
    {
     "data": {
      "text/plain": [
       "(81173, 61)"
      ]
     },
     "execution_count": 33,
     "metadata": {},
     "output_type": "execute_result"
    }
   ],
   "source": [
    "data.shape"
   ]
  },
  {
   "cell_type": "markdown",
   "metadata": {
    "id": "xshMxL1Zb4hm"
   },
   "source": [
    "# **Data Normalization**\n"
   ]
  },
  {
   "cell_type": "code",
   "execution_count": 34,
   "metadata": {
    "colab": {
     "base_uri": "https://localhost:8080/"
    },
    "id": "7G3s0etHwGUc",
    "outputId": "441e591d-d436-4a5f-ef71-21f4a92d03b9"
   },
   "outputs": [
    {
     "name": "stdout",
     "output_type": "stream",
     "text": [
      "['dur', 'spkts', 'dpkts', 'sbytes', 'dbytes', 'rate', 'sttl', 'dttl', 'sload', 'dload', 'sloss', 'dloss', 'sinpkt', 'dinpkt', 'sjit', 'djit', 'swin', 'stcpb', 'dtcpb', 'dwin', 'tcprtt', 'synack', 'ackdat', 'smean', 'dmean', 'trans_depth', 'response_body_len', 'ct_srv_src', 'ct_state_ttl', 'ct_dst_ltm', 'ct_src_dport_ltm', 'ct_dst_sport_ltm', 'ct_dst_src_ltm', 'is_ftp_login', 'ct_ftp_cmd', 'ct_flw_http_mthd', 'ct_src_ltm', 'ct_srv_dst', 'is_sm_ips_ports', 'proto_tcp', 'proto_udp', 'service_dhcp', 'service_dns', 'service_ftp', 'service_ftp-data', 'service_http', 'service_irc', 'service_pop3', 'service_radius', 'service_smtp', 'service_snmp', 'service_ssh', 'service_ssl', 'state_CON', 'state_FIN', 'state_INT', 'state_REQ', 'state_RST']\n"
     ]
    }
   ],
   "source": [
    "# selecting numeric attributes columns from data\n",
    "num_col = list(data.select_dtypes(include='number').columns)\n",
    "num_col.remove('id')\n",
    "num_col.remove('label')\n",
    "print(num_col)"
   ]
  },
  {
   "cell_type": "code",
   "execution_count": 35,
   "metadata": {
    "id": "-phVbE8yal8w"
   },
   "outputs": [],
   "source": [
    "# using minmax scaler for normalizing data\n",
    "minmax_scale = MinMaxScaler(feature_range=(0, 1))\n",
    "def normalization(df,col):\n",
    "  for i in col:\n",
    "    arr = df[i]\n",
    "    arr = np.array(arr)\n",
    "    df[i] = minmax_scale.fit_transform(arr.reshape(len(arr),1))\n",
    "  return df"
   ]
  },
  {
   "cell_type": "code",
   "execution_count": 36,
   "metadata": {
    "colab": {
     "base_uri": "https://localhost:8080/",
     "height": 241
    },
    "id": "GyC-geCscBTR",
    "outputId": "4fa93447-ddf5-4431-9f11-35468442b2c8"
   },
   "outputs": [
    {
     "data": {
      "text/html": [
       "<div>\n",
       "<style scoped>\n",
       "    .dataframe tbody tr th:only-of-type {\n",
       "        vertical-align: middle;\n",
       "    }\n",
       "\n",
       "    .dataframe tbody tr th {\n",
       "        vertical-align: top;\n",
       "    }\n",
       "\n",
       "    .dataframe thead th {\n",
       "        text-align: right;\n",
       "    }\n",
       "</style>\n",
       "<table border=\"1\" class=\"dataframe\">\n",
       "  <thead>\n",
       "    <tr style=\"text-align: right;\">\n",
       "      <th></th>\n",
       "      <th>id</th>\n",
       "      <th>dur</th>\n",
       "      <th>spkts</th>\n",
       "      <th>dpkts</th>\n",
       "      <th>sbytes</th>\n",
       "      <th>dbytes</th>\n",
       "      <th>rate</th>\n",
       "      <th>sttl</th>\n",
       "      <th>dttl</th>\n",
       "      <th>sload</th>\n",
       "      <th>...</th>\n",
       "      <th>service_radius</th>\n",
       "      <th>service_smtp</th>\n",
       "      <th>service_snmp</th>\n",
       "      <th>service_ssh</th>\n",
       "      <th>service_ssl</th>\n",
       "      <th>state_CON</th>\n",
       "      <th>state_FIN</th>\n",
       "      <th>state_INT</th>\n",
       "      <th>state_REQ</th>\n",
       "      <th>state_RST</th>\n",
       "    </tr>\n",
       "  </thead>\n",
       "  <tbody>\n",
       "    <tr>\n",
       "      <th>3</th>\n",
       "      <td>4</td>\n",
       "      <td>1.681642</td>\n",
       "      <td>12</td>\n",
       "      <td>12</td>\n",
       "      <td>628</td>\n",
       "      <td>770</td>\n",
       "      <td>13.677108</td>\n",
       "      <td>62</td>\n",
       "      <td>252</td>\n",
       "      <td>2.740179e+03</td>\n",
       "      <td>...</td>\n",
       "      <td>0</td>\n",
       "      <td>0</td>\n",
       "      <td>0</td>\n",
       "      <td>0</td>\n",
       "      <td>0</td>\n",
       "      <td>0</td>\n",
       "      <td>1</td>\n",
       "      <td>0</td>\n",
       "      <td>0</td>\n",
       "      <td>0</td>\n",
       "    </tr>\n",
       "    <tr>\n",
       "      <th>11</th>\n",
       "      <td>12</td>\n",
       "      <td>2.093085</td>\n",
       "      <td>62</td>\n",
       "      <td>28</td>\n",
       "      <td>56329</td>\n",
       "      <td>2212</td>\n",
       "      <td>42.520967</td>\n",
       "      <td>62</td>\n",
       "      <td>252</td>\n",
       "      <td>2.118251e+05</td>\n",
       "      <td>...</td>\n",
       "      <td>0</td>\n",
       "      <td>1</td>\n",
       "      <td>0</td>\n",
       "      <td>0</td>\n",
       "      <td>0</td>\n",
       "      <td>0</td>\n",
       "      <td>1</td>\n",
       "      <td>0</td>\n",
       "      <td>0</td>\n",
       "      <td>0</td>\n",
       "    </tr>\n",
       "    <tr>\n",
       "      <th>15</th>\n",
       "      <td>16</td>\n",
       "      <td>0.000002</td>\n",
       "      <td>2</td>\n",
       "      <td>0</td>\n",
       "      <td>138</td>\n",
       "      <td>0</td>\n",
       "      <td>500000.001300</td>\n",
       "      <td>254</td>\n",
       "      <td>0</td>\n",
       "      <td>2.760000e+08</td>\n",
       "      <td>...</td>\n",
       "      <td>0</td>\n",
       "      <td>0</td>\n",
       "      <td>1</td>\n",
       "      <td>0</td>\n",
       "      <td>0</td>\n",
       "      <td>0</td>\n",
       "      <td>0</td>\n",
       "      <td>1</td>\n",
       "      <td>0</td>\n",
       "      <td>0</td>\n",
       "    </tr>\n",
       "    <tr>\n",
       "      <th>17</th>\n",
       "      <td>18</td>\n",
       "      <td>0.393556</td>\n",
       "      <td>10</td>\n",
       "      <td>8</td>\n",
       "      <td>860</td>\n",
       "      <td>1096</td>\n",
       "      <td>43.195886</td>\n",
       "      <td>62</td>\n",
       "      <td>252</td>\n",
       "      <td>1.573347e+04</td>\n",
       "      <td>...</td>\n",
       "      <td>0</td>\n",
       "      <td>0</td>\n",
       "      <td>0</td>\n",
       "      <td>0</td>\n",
       "      <td>0</td>\n",
       "      <td>0</td>\n",
       "      <td>1</td>\n",
       "      <td>0</td>\n",
       "      <td>0</td>\n",
       "      <td>0</td>\n",
       "    </tr>\n",
       "    <tr>\n",
       "      <th>21</th>\n",
       "      <td>22</td>\n",
       "      <td>0.338017</td>\n",
       "      <td>10</td>\n",
       "      <td>6</td>\n",
       "      <td>998</td>\n",
       "      <td>268</td>\n",
       "      <td>44.376468</td>\n",
       "      <td>254</td>\n",
       "      <td>252</td>\n",
       "      <td>2.127704e+04</td>\n",
       "      <td>...</td>\n",
       "      <td>0</td>\n",
       "      <td>0</td>\n",
       "      <td>0</td>\n",
       "      <td>0</td>\n",
       "      <td>0</td>\n",
       "      <td>0</td>\n",
       "      <td>1</td>\n",
       "      <td>0</td>\n",
       "      <td>0</td>\n",
       "      <td>0</td>\n",
       "    </tr>\n",
       "  </tbody>\n",
       "</table>\n",
       "<p>5 rows × 61 columns</p>\n",
       "</div>"
      ],
      "text/plain": [
       "    id       dur  spkts  dpkts  sbytes  dbytes           rate  sttl  dttl  \\\n",
       "3    4  1.681642     12     12     628     770      13.677108    62   252   \n",
       "11  12  2.093085     62     28   56329    2212      42.520967    62   252   \n",
       "15  16  0.000002      2      0     138       0  500000.001300   254     0   \n",
       "17  18  0.393556     10      8     860    1096      43.195886    62   252   \n",
       "21  22  0.338017     10      6     998     268      44.376468   254   252   \n",
       "\n",
       "           sload  ...  service_radius  service_smtp  service_snmp  \\\n",
       "3   2.740179e+03  ...               0             0             0   \n",
       "11  2.118251e+05  ...               0             1             0   \n",
       "15  2.760000e+08  ...               0             0             1   \n",
       "17  1.573347e+04  ...               0             0             0   \n",
       "21  2.127704e+04  ...               0             0             0   \n",
       "\n",
       "    service_ssh  service_ssl  state_CON  state_FIN  state_INT  state_REQ  \\\n",
       "3             0            0          0          1          0          0   \n",
       "11            0            0          0          1          0          0   \n",
       "15            0            0          0          0          1          0   \n",
       "17            0            0          0          1          0          0   \n",
       "21            0            0          0          1          0          0   \n",
       "\n",
       "    state_RST  \n",
       "3           0  \n",
       "11          0  \n",
       "15          0  \n",
       "17          0  \n",
       "21          0  \n",
       "\n",
       "[5 rows x 61 columns]"
      ]
     },
     "execution_count": 36,
     "metadata": {},
     "output_type": "execute_result"
    }
   ],
   "source": [
    "# data before normalization\n",
    "data.head()"
   ]
  },
  {
   "cell_type": "code",
   "execution_count": 37,
   "metadata": {
    "id": "nQq5bTuscFrU"
   },
   "outputs": [],
   "source": [
    "# calling normalization() function\n",
    "data = normalization(data.copy(),num_col)"
   ]
  },
  {
   "cell_type": "code",
   "execution_count": 38,
   "metadata": {
    "colab": {
     "base_uri": "https://localhost:8080/",
     "height": 326
    },
    "id": "jxaw2yKYcN9X",
    "outputId": "c6f0d252-e9c1-4254-c3f4-9873b483af21"
   },
   "outputs": [
    {
     "data": {
      "text/html": [
       "<div>\n",
       "<style scoped>\n",
       "    .dataframe tbody tr th:only-of-type {\n",
       "        vertical-align: middle;\n",
       "    }\n",
       "\n",
       "    .dataframe tbody tr th {\n",
       "        vertical-align: top;\n",
       "    }\n",
       "\n",
       "    .dataframe thead th {\n",
       "        text-align: right;\n",
       "    }\n",
       "</style>\n",
       "<table border=\"1\" class=\"dataframe\">\n",
       "  <thead>\n",
       "    <tr style=\"text-align: right;\">\n",
       "      <th></th>\n",
       "      <th>id</th>\n",
       "      <th>dur</th>\n",
       "      <th>spkts</th>\n",
       "      <th>dpkts</th>\n",
       "      <th>sbytes</th>\n",
       "      <th>dbytes</th>\n",
       "      <th>rate</th>\n",
       "      <th>sttl</th>\n",
       "      <th>dttl</th>\n",
       "      <th>sload</th>\n",
       "      <th>...</th>\n",
       "      <th>service_radius</th>\n",
       "      <th>service_smtp</th>\n",
       "      <th>service_snmp</th>\n",
       "      <th>service_ssh</th>\n",
       "      <th>service_ssl</th>\n",
       "      <th>state_CON</th>\n",
       "      <th>state_FIN</th>\n",
       "      <th>state_INT</th>\n",
       "      <th>state_REQ</th>\n",
       "      <th>state_RST</th>\n",
       "    </tr>\n",
       "  </thead>\n",
       "  <tbody>\n",
       "    <tr>\n",
       "      <th>3</th>\n",
       "      <td>4</td>\n",
       "      <td>2.802780e-02</td>\n",
       "      <td>0.001144</td>\n",
       "      <td>0.001093</td>\n",
       "      <td>0.000041</td>\n",
       "      <td>0.000053</td>\n",
       "      <td>0.000014</td>\n",
       "      <td>0.138393</td>\n",
       "      <td>0.992126</td>\n",
       "      <td>0.000001</td>\n",
       "      <td>...</td>\n",
       "      <td>0.0</td>\n",
       "      <td>0.0</td>\n",
       "      <td>0.0</td>\n",
       "      <td>0.0</td>\n",
       "      <td>0.0</td>\n",
       "      <td>0.0</td>\n",
       "      <td>1.0</td>\n",
       "      <td>0.0</td>\n",
       "      <td>0.0</td>\n",
       "      <td>0.0</td>\n",
       "    </tr>\n",
       "    <tr>\n",
       "      <th>11</th>\n",
       "      <td>12</td>\n",
       "      <td>3.488529e-02</td>\n",
       "      <td>0.006344</td>\n",
       "      <td>0.002551</td>\n",
       "      <td>0.004337</td>\n",
       "      <td>0.000151</td>\n",
       "      <td>0.000043</td>\n",
       "      <td>0.138393</td>\n",
       "      <td>0.992126</td>\n",
       "      <td>0.000092</td>\n",
       "      <td>...</td>\n",
       "      <td>0.0</td>\n",
       "      <td>1.0</td>\n",
       "      <td>0.0</td>\n",
       "      <td>0.0</td>\n",
       "      <td>0.0</td>\n",
       "      <td>0.0</td>\n",
       "      <td>1.0</td>\n",
       "      <td>0.0</td>\n",
       "      <td>0.0</td>\n",
       "      <td>0.0</td>\n",
       "    </tr>\n",
       "    <tr>\n",
       "      <th>15</th>\n",
       "      <td>16</td>\n",
       "      <td>1.666693e-08</td>\n",
       "      <td>0.000104</td>\n",
       "      <td>0.000000</td>\n",
       "      <td>0.000003</td>\n",
       "      <td>0.000000</td>\n",
       "      <td>0.500000</td>\n",
       "      <td>0.995536</td>\n",
       "      <td>0.000000</td>\n",
       "      <td>0.119792</td>\n",
       "      <td>...</td>\n",
       "      <td>0.0</td>\n",
       "      <td>0.0</td>\n",
       "      <td>1.0</td>\n",
       "      <td>0.0</td>\n",
       "      <td>0.0</td>\n",
       "      <td>0.0</td>\n",
       "      <td>0.0</td>\n",
       "      <td>1.0</td>\n",
       "      <td>0.0</td>\n",
       "      <td>0.0</td>\n",
       "    </tr>\n",
       "    <tr>\n",
       "      <th>17</th>\n",
       "      <td>18</td>\n",
       "      <td>6.559354e-03</td>\n",
       "      <td>0.000936</td>\n",
       "      <td>0.000729</td>\n",
       "      <td>0.000059</td>\n",
       "      <td>0.000075</td>\n",
       "      <td>0.000043</td>\n",
       "      <td>0.138393</td>\n",
       "      <td>0.992126</td>\n",
       "      <td>0.000007</td>\n",
       "      <td>...</td>\n",
       "      <td>0.0</td>\n",
       "      <td>0.0</td>\n",
       "      <td>0.0</td>\n",
       "      <td>0.0</td>\n",
       "      <td>0.0</td>\n",
       "      <td>0.0</td>\n",
       "      <td>1.0</td>\n",
       "      <td>0.0</td>\n",
       "      <td>0.0</td>\n",
       "      <td>0.0</td>\n",
       "    </tr>\n",
       "    <tr>\n",
       "      <th>21</th>\n",
       "      <td>22</td>\n",
       "      <td>5.633690e-03</td>\n",
       "      <td>0.000936</td>\n",
       "      <td>0.000547</td>\n",
       "      <td>0.000069</td>\n",
       "      <td>0.000018</td>\n",
       "      <td>0.000044</td>\n",
       "      <td>0.995536</td>\n",
       "      <td>0.992126</td>\n",
       "      <td>0.000009</td>\n",
       "      <td>...</td>\n",
       "      <td>0.0</td>\n",
       "      <td>0.0</td>\n",
       "      <td>0.0</td>\n",
       "      <td>0.0</td>\n",
       "      <td>0.0</td>\n",
       "      <td>0.0</td>\n",
       "      <td>1.0</td>\n",
       "      <td>0.0</td>\n",
       "      <td>0.0</td>\n",
       "      <td>0.0</td>\n",
       "    </tr>\n",
       "  </tbody>\n",
       "</table>\n",
       "<p>5 rows × 61 columns</p>\n",
       "</div>"
      ],
      "text/plain": [
       "    id           dur     spkts     dpkts    sbytes    dbytes      rate  \\\n",
       "3    4  2.802780e-02  0.001144  0.001093  0.000041  0.000053  0.000014   \n",
       "11  12  3.488529e-02  0.006344  0.002551  0.004337  0.000151  0.000043   \n",
       "15  16  1.666693e-08  0.000104  0.000000  0.000003  0.000000  0.500000   \n",
       "17  18  6.559354e-03  0.000936  0.000729  0.000059  0.000075  0.000043   \n",
       "21  22  5.633690e-03  0.000936  0.000547  0.000069  0.000018  0.000044   \n",
       "\n",
       "        sttl      dttl     sload  ...  service_radius  service_smtp  \\\n",
       "3   0.138393  0.992126  0.000001  ...             0.0           0.0   \n",
       "11  0.138393  0.992126  0.000092  ...             0.0           1.0   \n",
       "15  0.995536  0.000000  0.119792  ...             0.0           0.0   \n",
       "17  0.138393  0.992126  0.000007  ...             0.0           0.0   \n",
       "21  0.995536  0.992126  0.000009  ...             0.0           0.0   \n",
       "\n",
       "    service_snmp  service_ssh  service_ssl  state_CON  state_FIN  state_INT  \\\n",
       "3            0.0          0.0          0.0        0.0        1.0        0.0   \n",
       "11           0.0          0.0          0.0        0.0        1.0        0.0   \n",
       "15           1.0          0.0          0.0        0.0        0.0        1.0   \n",
       "17           0.0          0.0          0.0        0.0        1.0        0.0   \n",
       "21           0.0          0.0          0.0        0.0        1.0        0.0   \n",
       "\n",
       "    state_REQ  state_RST  \n",
       "3         0.0        0.0  \n",
       "11        0.0        0.0  \n",
       "15        0.0        0.0  \n",
       "17        0.0        0.0  \n",
       "21        0.0        0.0  \n",
       "\n",
       "[5 rows x 61 columns]"
      ]
     },
     "execution_count": 38,
     "metadata": {},
     "output_type": "execute_result"
    }
   ],
   "source": [
    "# data after normalization\n",
    "data.head()"
   ]
  },
  {
   "cell_type": "markdown",
   "metadata": {
    "id": "qhQJSg2Ka1Qb"
   },
   "source": [
    "# **Label Encoding**"
   ]
  },
  {
   "cell_type": "markdown",
   "metadata": {
    "id": "wAUCpILctlwU"
   },
   "source": [
    "## **Binary Labels**"
   ]
  },
  {
   "cell_type": "code",
   "execution_count": 39,
   "metadata": {
    "id": "OGSplI_VjHR0"
   },
   "outputs": [],
   "source": [
    "# changing attack labels into two categories 'normal' and 'abnormal'\n",
    "bin_label = pd.DataFrame(data.label.map(lambda x:'normal' if x==0 else 'abnormal'))"
   ]
  },
  {
   "cell_type": "code",
   "execution_count": 40,
   "metadata": {
    "id": "tYJbRZ5oimGg"
   },
   "outputs": [],
   "source": [
    "# creating a dataframe with binary labels (normal,abnormal)\n",
    "bin_data = data.copy()\n",
    "bin_data['label'] = bin_label"
   ]
  },
  {
   "cell_type": "code",
   "execution_count": 41,
   "metadata": {
    "id": "8UvUkBqtjagH"
   },
   "outputs": [],
   "source": [
    "# label encoding (0,1) binary labels\n",
    "le1 = preprocessing.LabelEncoder()\n",
    "enc_label = bin_label.apply(le1.fit_transform)\n",
    "bin_data['label'] = enc_label"
   ]
  },
  {
   "cell_type": "code",
   "execution_count": 42,
   "metadata": {
    "colab": {
     "base_uri": "https://localhost:8080/"
    },
    "id": "NIe07KITjg--",
    "outputId": "b6a289a1-be51-4855-9e13-0d639bc4e8e8"
   },
   "outputs": [
    {
     "data": {
      "text/plain": [
       "array(['abnormal', 'normal'], dtype=object)"
      ]
     },
     "execution_count": 42,
     "metadata": {},
     "output_type": "execute_result"
    }
   ],
   "source": [
    "le1.classes_"
   ]
  },
  {
   "cell_type": "markdown",
   "metadata": {
    "id": "pMT074G_cb0D"
   },
   "source": [
    "# **Correlation between features of dataset**"
   ]
  },
  {
   "cell_type": "code",
   "execution_count": 43,
   "metadata": {
    "id": "lJIPk62ZiFpM"
   },
   "outputs": [],
   "source": [
    "num_col.append('label')"
   ]
  },
  {
   "cell_type": "markdown",
   "metadata": {
    "id": "Xytgw98DRSyE"
   },
   "source": [
    "# **Feature Selection**"
   ]
  },
  {
   "cell_type": "markdown",
   "metadata": {
    "id": "l869k8cKvMRX"
   },
   "source": [
    "## **Binary Labels**"
   ]
  },
  {
   "cell_type": "code",
   "execution_count": 44,
   "metadata": {
    "colab": {
     "base_uri": "https://localhost:8080/"
    },
    "id": "x4dyHvrhcxjk",
    "outputId": "57736cf0-d6cc-4066-fb54-93d5288d9114"
   },
   "outputs": [
    {
     "data": {
      "text/plain": [
       "sload               0.334562\n",
       "dload               0.343910\n",
       "rate                0.344535\n",
       "ct_src_ltm          0.368486\n",
       "ct_dst_ltm          0.387358\n",
       "ct_src_dport_ltm    0.444874\n",
       "ct_srv_dst          0.459984\n",
       "ct_srv_src          0.463153\n",
       "ct_dst_src_ltm      0.463735\n",
       "ct_dst_sport_ltm    0.497234\n",
       "state_INT           0.546631\n",
       "state_CON           0.552505\n",
       "sttl                0.707337\n",
       "ct_state_ttl        0.801403\n",
       "label               1.000000\n",
       "Name: label, dtype: float64"
      ]
     },
     "execution_count": 44,
     "metadata": {},
     "output_type": "execute_result"
    }
   ],
   "source": [
    "# finding the attributes which have more than 0.3 correlation with encoded attack label attribute \n",
    "corr_bin = bin_data[num_col].corr()\n",
    "corr_ybin = abs(corr_bin['label'])\n",
    "highest_corr_bin = corr_ybin[corr_ybin >0.3]\n",
    "highest_corr_bin.sort_values(ascending=True)"
   ]
  },
  {
   "cell_type": "code",
   "execution_count": 45,
   "metadata": {
    "colab": {
     "base_uri": "https://localhost:8080/"
    },
    "id": "DNyZzFIPk8ye",
    "outputId": "3864fd29-8350-445d-ebaa-f4f5eaf2490e"
   },
   "outputs": [
    {
     "data": {
      "text/plain": [
       "Index(['rate', 'sttl', 'sload', 'dload', 'ct_srv_src', 'ct_state_ttl',\n",
       "       'ct_dst_ltm', 'ct_src_dport_ltm', 'ct_dst_sport_ltm', 'ct_dst_src_ltm',\n",
       "       'ct_src_ltm', 'ct_srv_dst', 'state_CON', 'state_INT', 'label'],\n",
       "      dtype='object')"
      ]
     },
     "execution_count": 45,
     "metadata": {},
     "output_type": "execute_result"
    }
   ],
   "source": [
    "# selecting attributes found by using pearson correlation coefficient\n",
    "bin_cols = highest_corr_bin.index\n",
    "bin_cols"
   ]
  },
  {
   "cell_type": "code",
   "execution_count": 46,
   "metadata": {
    "colab": {
     "base_uri": "https://localhost:8080/",
     "height": 439
    },
    "id": "6wb-harnmqYn",
    "outputId": "72b9b5c4-9328-4c6d-c099-04fd089c2b7b"
   },
   "outputs": [
    {
     "data": {
      "text/html": [
       "<div>\n",
       "<style scoped>\n",
       "    .dataframe tbody tr th:only-of-type {\n",
       "        vertical-align: middle;\n",
       "    }\n",
       "\n",
       "    .dataframe tbody tr th {\n",
       "        vertical-align: top;\n",
       "    }\n",
       "\n",
       "    .dataframe thead th {\n",
       "        text-align: right;\n",
       "    }\n",
       "</style>\n",
       "<table border=\"1\" class=\"dataframe\">\n",
       "  <thead>\n",
       "    <tr style=\"text-align: right;\">\n",
       "      <th></th>\n",
       "      <th>rate</th>\n",
       "      <th>sttl</th>\n",
       "      <th>sload</th>\n",
       "      <th>dload</th>\n",
       "      <th>ct_srv_src</th>\n",
       "      <th>ct_state_ttl</th>\n",
       "      <th>ct_dst_ltm</th>\n",
       "      <th>ct_src_dport_ltm</th>\n",
       "      <th>ct_dst_sport_ltm</th>\n",
       "      <th>ct_dst_src_ltm</th>\n",
       "      <th>ct_src_ltm</th>\n",
       "      <th>ct_srv_dst</th>\n",
       "      <th>state_CON</th>\n",
       "      <th>state_INT</th>\n",
       "      <th>label</th>\n",
       "    </tr>\n",
       "  </thead>\n",
       "  <tbody>\n",
       "    <tr>\n",
       "      <th>3</th>\n",
       "      <td>0.000014</td>\n",
       "      <td>0.138393</td>\n",
       "      <td>0.000001</td>\n",
       "      <td>0.000150</td>\n",
       "      <td>0.000000</td>\n",
       "      <td>0.166667</td>\n",
       "      <td>0.02</td>\n",
       "      <td>0.00</td>\n",
       "      <td>0.000000</td>\n",
       "      <td>0.039216</td>\n",
       "      <td>0.016949</td>\n",
       "      <td>0.000000</td>\n",
       "      <td>0.0</td>\n",
       "      <td>0.0</td>\n",
       "      <td>1</td>\n",
       "    </tr>\n",
       "    <tr>\n",
       "      <th>11</th>\n",
       "      <td>0.000043</td>\n",
       "      <td>0.138393</td>\n",
       "      <td>0.000092</td>\n",
       "      <td>0.000364</td>\n",
       "      <td>0.019608</td>\n",
       "      <td>0.166667</td>\n",
       "      <td>0.00</td>\n",
       "      <td>0.00</td>\n",
       "      <td>0.000000</td>\n",
       "      <td>0.019608</td>\n",
       "      <td>0.000000</td>\n",
       "      <td>0.000000</td>\n",
       "      <td>0.0</td>\n",
       "      <td>0.0</td>\n",
       "      <td>1</td>\n",
       "    </tr>\n",
       "    <tr>\n",
       "      <th>15</th>\n",
       "      <td>0.500000</td>\n",
       "      <td>0.995536</td>\n",
       "      <td>0.119792</td>\n",
       "      <td>0.000000</td>\n",
       "      <td>0.000000</td>\n",
       "      <td>0.333333</td>\n",
       "      <td>0.00</td>\n",
       "      <td>0.00</td>\n",
       "      <td>0.000000</td>\n",
       "      <td>0.058824</td>\n",
       "      <td>0.016949</td>\n",
       "      <td>0.000000</td>\n",
       "      <td>0.0</td>\n",
       "      <td>1.0</td>\n",
       "      <td>1</td>\n",
       "    </tr>\n",
       "    <tr>\n",
       "      <th>17</th>\n",
       "      <td>0.000043</td>\n",
       "      <td>0.138393</td>\n",
       "      <td>0.000007</td>\n",
       "      <td>0.000869</td>\n",
       "      <td>0.039216</td>\n",
       "      <td>0.166667</td>\n",
       "      <td>0.00</td>\n",
       "      <td>0.00</td>\n",
       "      <td>0.000000</td>\n",
       "      <td>0.019608</td>\n",
       "      <td>0.000000</td>\n",
       "      <td>0.039216</td>\n",
       "      <td>0.0</td>\n",
       "      <td>0.0</td>\n",
       "      <td>1</td>\n",
       "    </tr>\n",
       "    <tr>\n",
       "      <th>21</th>\n",
       "      <td>0.000044</td>\n",
       "      <td>0.995536</td>\n",
       "      <td>0.000009</td>\n",
       "      <td>0.000236</td>\n",
       "      <td>0.098039</td>\n",
       "      <td>0.166667</td>\n",
       "      <td>0.00</td>\n",
       "      <td>0.00</td>\n",
       "      <td>0.000000</td>\n",
       "      <td>0.000000</td>\n",
       "      <td>0.016949</td>\n",
       "      <td>0.039216</td>\n",
       "      <td>0.0</td>\n",
       "      <td>0.0</td>\n",
       "      <td>1</td>\n",
       "    </tr>\n",
       "    <tr>\n",
       "      <th>...</th>\n",
       "      <td>...</td>\n",
       "      <td>...</td>\n",
       "      <td>...</td>\n",
       "      <td>...</td>\n",
       "      <td>...</td>\n",
       "      <td>...</td>\n",
       "      <td>...</td>\n",
       "      <td>...</td>\n",
       "      <td>...</td>\n",
       "      <td>...</td>\n",
       "      <td>...</td>\n",
       "      <td>...</td>\n",
       "      <td>...</td>\n",
       "      <td>...</td>\n",
       "      <td>...</td>\n",
       "    </tr>\n",
       "    <tr>\n",
       "      <th>175335</th>\n",
       "      <td>0.166667</td>\n",
       "      <td>0.995536</td>\n",
       "      <td>0.032986</td>\n",
       "      <td>0.000000</td>\n",
       "      <td>0.862745</td>\n",
       "      <td>0.333333</td>\n",
       "      <td>0.64</td>\n",
       "      <td>0.64</td>\n",
       "      <td>0.533333</td>\n",
       "      <td>0.862745</td>\n",
       "      <td>0.542373</td>\n",
       "      <td>0.862745</td>\n",
       "      <td>0.0</td>\n",
       "      <td>1.0</td>\n",
       "      <td>0</td>\n",
       "    </tr>\n",
       "    <tr>\n",
       "      <th>175336</th>\n",
       "      <td>0.111111</td>\n",
       "      <td>0.995536</td>\n",
       "      <td>0.021991</td>\n",
       "      <td>0.000000</td>\n",
       "      <td>0.450980</td>\n",
       "      <td>0.333333</td>\n",
       "      <td>0.46</td>\n",
       "      <td>0.46</td>\n",
       "      <td>0.400000</td>\n",
       "      <td>0.450980</td>\n",
       "      <td>0.389831</td>\n",
       "      <td>0.450980</td>\n",
       "      <td>0.0</td>\n",
       "      <td>1.0</td>\n",
       "      <td>0</td>\n",
       "    </tr>\n",
       "    <tr>\n",
       "      <th>175338</th>\n",
       "      <td>0.111111</td>\n",
       "      <td>0.995536</td>\n",
       "      <td>0.021991</td>\n",
       "      <td>0.000000</td>\n",
       "      <td>0.215686</td>\n",
       "      <td>0.333333</td>\n",
       "      <td>0.04</td>\n",
       "      <td>0.04</td>\n",
       "      <td>0.066667</td>\n",
       "      <td>0.235294</td>\n",
       "      <td>0.033898</td>\n",
       "      <td>0.215686</td>\n",
       "      <td>0.0</td>\n",
       "      <td>1.0</td>\n",
       "      <td>0</td>\n",
       "    </tr>\n",
       "    <tr>\n",
       "      <th>175339</th>\n",
       "      <td>0.111111</td>\n",
       "      <td>0.995536</td>\n",
       "      <td>0.021991</td>\n",
       "      <td>0.000000</td>\n",
       "      <td>0.568627</td>\n",
       "      <td>0.333333</td>\n",
       "      <td>0.58</td>\n",
       "      <td>0.58</td>\n",
       "      <td>0.433333</td>\n",
       "      <td>0.568627</td>\n",
       "      <td>0.491525</td>\n",
       "      <td>0.568627</td>\n",
       "      <td>0.0</td>\n",
       "      <td>1.0</td>\n",
       "      <td>0</td>\n",
       "    </tr>\n",
       "    <tr>\n",
       "      <th>175340</th>\n",
       "      <td>0.111111</td>\n",
       "      <td>0.995536</td>\n",
       "      <td>0.021991</td>\n",
       "      <td>0.000000</td>\n",
       "      <td>0.568627</td>\n",
       "      <td>0.333333</td>\n",
       "      <td>0.58</td>\n",
       "      <td>0.58</td>\n",
       "      <td>0.500000</td>\n",
       "      <td>0.568627</td>\n",
       "      <td>0.491525</td>\n",
       "      <td>0.568627</td>\n",
       "      <td>0.0</td>\n",
       "      <td>1.0</td>\n",
       "      <td>0</td>\n",
       "    </tr>\n",
       "  </tbody>\n",
       "</table>\n",
       "<p>81173 rows × 15 columns</p>\n",
       "</div>"
      ],
      "text/plain": [
       "            rate      sttl     sload     dload  ct_srv_src  ct_state_ttl  \\\n",
       "3       0.000014  0.138393  0.000001  0.000150    0.000000      0.166667   \n",
       "11      0.000043  0.138393  0.000092  0.000364    0.019608      0.166667   \n",
       "15      0.500000  0.995536  0.119792  0.000000    0.000000      0.333333   \n",
       "17      0.000043  0.138393  0.000007  0.000869    0.039216      0.166667   \n",
       "21      0.000044  0.995536  0.000009  0.000236    0.098039      0.166667   \n",
       "...          ...       ...       ...       ...         ...           ...   \n",
       "175335  0.166667  0.995536  0.032986  0.000000    0.862745      0.333333   \n",
       "175336  0.111111  0.995536  0.021991  0.000000    0.450980      0.333333   \n",
       "175338  0.111111  0.995536  0.021991  0.000000    0.215686      0.333333   \n",
       "175339  0.111111  0.995536  0.021991  0.000000    0.568627      0.333333   \n",
       "175340  0.111111  0.995536  0.021991  0.000000    0.568627      0.333333   \n",
       "\n",
       "        ct_dst_ltm  ct_src_dport_ltm  ct_dst_sport_ltm  ct_dst_src_ltm  \\\n",
       "3             0.02              0.00          0.000000        0.039216   \n",
       "11            0.00              0.00          0.000000        0.019608   \n",
       "15            0.00              0.00          0.000000        0.058824   \n",
       "17            0.00              0.00          0.000000        0.019608   \n",
       "21            0.00              0.00          0.000000        0.000000   \n",
       "...            ...               ...               ...             ...   \n",
       "175335        0.64              0.64          0.533333        0.862745   \n",
       "175336        0.46              0.46          0.400000        0.450980   \n",
       "175338        0.04              0.04          0.066667        0.235294   \n",
       "175339        0.58              0.58          0.433333        0.568627   \n",
       "175340        0.58              0.58          0.500000        0.568627   \n",
       "\n",
       "        ct_src_ltm  ct_srv_dst  state_CON  state_INT  label  \n",
       "3         0.016949    0.000000        0.0        0.0      1  \n",
       "11        0.000000    0.000000        0.0        0.0      1  \n",
       "15        0.016949    0.000000        0.0        1.0      1  \n",
       "17        0.000000    0.039216        0.0        0.0      1  \n",
       "21        0.016949    0.039216        0.0        0.0      1  \n",
       "...            ...         ...        ...        ...    ...  \n",
       "175335    0.542373    0.862745        0.0        1.0      0  \n",
       "175336    0.389831    0.450980        0.0        1.0      0  \n",
       "175338    0.033898    0.215686        0.0        1.0      0  \n",
       "175339    0.491525    0.568627        0.0        1.0      0  \n",
       "175340    0.491525    0.568627        0.0        1.0      0  \n",
       "\n",
       "[81173 rows x 15 columns]"
      ]
     },
     "execution_count": 46,
     "metadata": {},
     "output_type": "execute_result"
    }
   ],
   "source": [
    "# Binary labelled Dataset\n",
    "bin_data = bin_data[bin_cols].copy()\n",
    "bin_data"
   ]
  },
  {
   "cell_type": "markdown",
   "metadata": {
    "id": "o3brm_K3vhuA"
   },
   "source": [
    "### **Saving Prepared Dataset to Disk**"
   ]
  },
  {
   "cell_type": "code",
   "execution_count": 47,
   "metadata": {
    "id": "lvS-G6pgvibj"
   },
   "outputs": [],
   "source": [
    "bin_data.to_csv('./datasets/bin_data.csv')"
   ]
  },
  {
   "cell_type": "markdown",
   "metadata": {
    "id": "z376w6tkpD9q"
   },
   "source": [
    "# **BINARY CLASSIFICATION**"
   ]
  },
  {
   "cell_type": "markdown",
   "metadata": {
    "id": "53mDsRGbRbZN"
   },
   "source": [
    "## **Data Splitting**\n",
    "\n"
   ]
  },
  {
   "cell_type": "code",
   "execution_count": 48,
   "metadata": {
    "id": "Y5QtFhz-sdQj"
   },
   "outputs": [],
   "source": [
    "X = bin_data.drop(columns=['label'],axis=1)\n",
    "Y = bin_data['label']\n",
    "X = X.to_numpy()\n",
    "Y = Y.to_numpy()"
   ]
  },
  {
   "cell_type": "code",
   "execution_count": 49,
   "metadata": {
    "id": "E1wQkX1Ts2Sd"
   },
   "outputs": [],
   "source": [
    "X_train,X_test,y_train,y_test = train_test_split(X,Y,test_size=0.20, random_state=50)"
   ]
  },
  {
   "cell_type": "markdown",
   "metadata": {
    "id": "bfna4-Sqrlnd"
   },
   "source": [
    "## **Multi Layer Perceptron**"
   ]
  },
  {
   "cell_type": "code",
   "execution_count": 50,
   "metadata": {
    "id": "EFnPJ0jMrida"
   },
   "outputs": [],
   "source": [
    "mlp_bin = MLPClassifier(random_state=100, solver='adam', max_iter=80, verbose=True,batch_size=200, activation='relu',alpha=1e-5,hidden_layer_sizes=(5, ))"
   ]
  },
  {
   "cell_type": "code",
   "execution_count": 51,
   "metadata": {
    "colab": {
     "base_uri": "https://localhost:8080/"
    },
    "id": "aYh14lDyrkgv",
    "outputId": "16e62352-2dde-4a34-ade2-26891e9c9228"
   },
   "outputs": [
    {
     "name": "stdout",
     "output_type": "stream",
     "text": [
      "Iteration 1, loss = 0.51633806\n",
      "Iteration 2, loss = 0.26632804\n",
      "Iteration 3, loss = 0.20397928\n",
      "Iteration 4, loss = 0.17396157\n",
      "Iteration 5, loss = 0.15543565\n",
      "Iteration 6, loss = 0.14122430\n",
      "Iteration 7, loss = 0.12829505\n",
      "Iteration 8, loss = 0.11520052\n",
      "Iteration 9, loss = 0.10250886\n",
      "Iteration 10, loss = 0.09195581\n",
      "Iteration 11, loss = 0.08427068\n",
      "Iteration 12, loss = 0.07939864\n",
      "Iteration 13, loss = 0.07582965\n",
      "Iteration 14, loss = 0.07308203\n",
      "Iteration 15, loss = 0.07102627\n",
      "Iteration 16, loss = 0.06940273\n",
      "Iteration 17, loss = 0.06813533\n",
      "Iteration 18, loss = 0.06708994\n",
      "Iteration 19, loss = 0.06626121\n",
      "Iteration 20, loss = 0.06554072\n",
      "Iteration 21, loss = 0.06491920\n",
      "Iteration 22, loss = 0.06442033\n",
      "Iteration 23, loss = 0.06399484\n",
      "Iteration 24, loss = 0.06360358\n",
      "Iteration 25, loss = 0.06323215\n",
      "Iteration 26, loss = 0.06294441\n",
      "Iteration 27, loss = 0.06266992\n",
      "Iteration 28, loss = 0.06247032\n",
      "Iteration 29, loss = 0.06225035\n",
      "Iteration 30, loss = 0.06208035\n",
      "Iteration 31, loss = 0.06189769\n",
      "Iteration 32, loss = 0.06175202\n",
      "Iteration 33, loss = 0.06162613\n",
      "Iteration 34, loss = 0.06148060\n",
      "Iteration 35, loss = 0.06131295\n",
      "Iteration 36, loss = 0.06120447\n",
      "Iteration 37, loss = 0.06108682\n",
      "Iteration 38, loss = 0.06096955\n",
      "Iteration 39, loss = 0.06090630\n",
      "Iteration 40, loss = 0.06081974\n",
      "Iteration 41, loss = 0.06073957\n",
      "Iteration 42, loss = 0.06069129\n",
      "Iteration 43, loss = 0.06056855\n",
      "Iteration 44, loss = 0.06052569\n",
      "Iteration 45, loss = 0.06045372\n",
      "Iteration 46, loss = 0.06037167\n",
      "Iteration 47, loss = 0.06027713\n",
      "Iteration 48, loss = 0.06020930\n",
      "Iteration 49, loss = 0.06014485\n",
      "Iteration 50, loss = 0.06011221\n",
      "Iteration 51, loss = 0.06005415\n",
      "Iteration 52, loss = 0.06003516\n",
      "Iteration 53, loss = 0.05991318\n",
      "Iteration 54, loss = 0.05991762\n",
      "Iteration 55, loss = 0.05984641\n",
      "Iteration 56, loss = 0.05983270\n",
      "Iteration 57, loss = 0.05975108\n",
      "Iteration 58, loss = 0.05973385\n",
      "Iteration 59, loss = 0.05967933\n",
      "Iteration 60, loss = 0.05963537\n",
      "Iteration 61, loss = 0.05962456\n",
      "Iteration 62, loss = 0.05954575\n",
      "Iteration 63, loss = 0.05950788\n",
      "Iteration 64, loss = 0.05944052\n",
      "Training loss did not improve more than tol=0.000100 for 10 consecutive epochs. Stopping.\n"
     ]
    },
    {
     "data": {
      "text/plain": [
       "MLPClassifier(alpha=1e-05, batch_size=200, hidden_layer_sizes=(5,), max_iter=80,\n",
       "              random_state=100, verbose=True)"
      ]
     },
     "execution_count": 51,
     "metadata": {},
     "output_type": "execute_result"
    }
   ],
   "source": [
    "mlp_bin.fit(X_train,y_train)"
   ]
  },
  {
   "cell_type": "code",
   "execution_count": 52,
   "metadata": {
    "id": "YV1HgxZ3smNo"
   },
   "outputs": [],
   "source": [
    "y_pred = mlp_bin.predict(X_test)"
   ]
  },
  {
   "cell_type": "code",
   "execution_count": 53,
   "metadata": {
    "colab": {
     "base_uri": "https://localhost:8080/"
    },
    "id": "TSi3T41e7n7G",
    "outputId": "32c93fdc-efde-4eeb-9ecb-b9cb9a4ccb8c"
   },
   "outputs": [
    {
     "name": "stdout",
     "output_type": "stream",
     "text": [
      "Mean Absolute Error -  0.018540190945488144\n",
      "Mean Squared Error -  0.018540190945488144\n",
      "Root Mean Squared Error -  0.13616236978507734\n",
      "R2 Score -  89.96289801984273\n",
      "Accuracy -  98.1459809054512\n"
     ]
    }
   ],
   "source": [
    "print(\"Mean Absolute Error - \" , metrics.mean_absolute_error(y_test, y_pred))\n",
    "print(\"Mean Squared Error - \" , metrics.mean_squared_error(y_test, y_pred))\n",
    "print(\"Root Mean Squared Error - \" , np.sqrt(metrics.mean_squared_error(y_test, y_pred)))\n",
    "print(\"R2 Score - \" , metrics.explained_variance_score(y_test, y_pred)*100)\n",
    "print(\"Accuracy - \",accuracy_score(y_test,y_pred)*100)"
   ]
  },
  {
   "cell_type": "code",
   "execution_count": 54,
   "metadata": {
    "colab": {
     "base_uri": "https://localhost:8080/"
    },
    "id": "Mfi5oF8p7qyU",
    "outputId": "a35ab5af-7988-4a44-f85c-848a93c9b558"
   },
   "outputs": [
    {
     "name": "stdout",
     "output_type": "stream",
     "text": [
      "              precision    recall  f1-score   support\n",
      "\n",
      "    abnormal       0.98      1.00      0.99     12326\n",
      "      normal       0.99      0.93      0.96      3909\n",
      "\n",
      "    accuracy                           0.98     16235\n",
      "   macro avg       0.98      0.96      0.97     16235\n",
      "weighted avg       0.98      0.98      0.98     16235\n",
      "\n"
     ]
    }
   ],
   "source": [
    "cls_report= classification_report(y_true=y_test, y_pred=y_pred,target_names=le1.classes_)\n",
    "print(cls_report)"
   ]
  },
  {
   "cell_type": "markdown",
   "metadata": {
    "id": "B7waKkyC10Eo"
   },
   "source": [
    "### **Real and Predicted Data**"
   ]
  },
  {
   "cell_type": "code",
   "execution_count": 55,
   "metadata": {
    "colab": {
     "base_uri": "https://localhost:8080/",
     "height": 419
    },
    "id": "pPPPTAa0HkL4",
    "outputId": "4d488372-75e6-496c-e530-beb81f4a6e76"
   },
   "outputs": [
    {
     "data": {
      "text/html": [
       "<div>\n",
       "<style scoped>\n",
       "    .dataframe tbody tr th:only-of-type {\n",
       "        vertical-align: middle;\n",
       "    }\n",
       "\n",
       "    .dataframe tbody tr th {\n",
       "        vertical-align: top;\n",
       "    }\n",
       "\n",
       "    .dataframe thead th {\n",
       "        text-align: right;\n",
       "    }\n",
       "</style>\n",
       "<table border=\"1\" class=\"dataframe\">\n",
       "  <thead>\n",
       "    <tr style=\"text-align: right;\">\n",
       "      <th></th>\n",
       "      <th>Actual</th>\n",
       "      <th>Predicted</th>\n",
       "    </tr>\n",
       "  </thead>\n",
       "  <tbody>\n",
       "    <tr>\n",
       "      <th>0</th>\n",
       "      <td>0</td>\n",
       "      <td>0</td>\n",
       "    </tr>\n",
       "    <tr>\n",
       "      <th>1</th>\n",
       "      <td>0</td>\n",
       "      <td>0</td>\n",
       "    </tr>\n",
       "    <tr>\n",
       "      <th>2</th>\n",
       "      <td>0</td>\n",
       "      <td>0</td>\n",
       "    </tr>\n",
       "    <tr>\n",
       "      <th>3</th>\n",
       "      <td>1</td>\n",
       "      <td>1</td>\n",
       "    </tr>\n",
       "    <tr>\n",
       "      <th>4</th>\n",
       "      <td>1</td>\n",
       "      <td>1</td>\n",
       "    </tr>\n",
       "    <tr>\n",
       "      <th>...</th>\n",
       "      <td>...</td>\n",
       "      <td>...</td>\n",
       "    </tr>\n",
       "    <tr>\n",
       "      <th>16230</th>\n",
       "      <td>0</td>\n",
       "      <td>0</td>\n",
       "    </tr>\n",
       "    <tr>\n",
       "      <th>16231</th>\n",
       "      <td>0</td>\n",
       "      <td>0</td>\n",
       "    </tr>\n",
       "    <tr>\n",
       "      <th>16232</th>\n",
       "      <td>0</td>\n",
       "      <td>0</td>\n",
       "    </tr>\n",
       "    <tr>\n",
       "      <th>16233</th>\n",
       "      <td>0</td>\n",
       "      <td>0</td>\n",
       "    </tr>\n",
       "    <tr>\n",
       "      <th>16234</th>\n",
       "      <td>1</td>\n",
       "      <td>1</td>\n",
       "    </tr>\n",
       "  </tbody>\n",
       "</table>\n",
       "<p>16235 rows × 2 columns</p>\n",
       "</div>"
      ],
      "text/plain": [
       "       Actual  Predicted\n",
       "0           0          0\n",
       "1           0          0\n",
       "2           0          0\n",
       "3           1          1\n",
       "4           1          1\n",
       "...       ...        ...\n",
       "16230       0          0\n",
       "16231       0          0\n",
       "16232       0          0\n",
       "16233       0          0\n",
       "16234       1          1\n",
       "\n",
       "[16235 rows x 2 columns]"
      ]
     },
     "execution_count": 55,
     "metadata": {},
     "output_type": "execute_result"
    }
   ],
   "source": [
    "mlp_bin_df = pd.DataFrame({'Actual': y_test, 'Predicted': y_pred})\n",
    "mlp_bin_df.to_csv('models/mlp_real_pred_bin.csv')\n",
    "mlp_bin_df"
   ]
  },
  {
   "cell_type": "markdown",
   "metadata": {
    "id": "4ukPfXeNuXlt"
   },
   "source": [
    "### **Plot between Real and Predicted Data**"
   ]
  },
  {
   "cell_type": "code",
   "execution_count": 56,
   "metadata": {
    "colab": {
     "base_uri": "https://localhost:8080/",
     "height": 390
    },
    "id": "DvES4DMlLltC",
    "outputId": "1d49b896-6d6a-49e5-f762-187dccbdba76"
   },
   "outputs": [
    {
     "data": {
      "image/png": "[encoded data removed]",
      "text/plain": [
       "<Figure size 1440x576 with 1 Axes>"
      ]
     },
     "metadata": {
      "needs_background": "light"
     },
     "output_type": "display_data"
    }
   ],
   "source": [
    "plt.figure(figsize=(20,8))\n",
    "plt.plot(y_pred[100:300], label=\"prediction\", linewidth=2.0,color='blue')\n",
    "plt.plot(y_test[100:300], label=\"real_values\", linewidth=2.0,color='lightcoral')\n",
    "plt.legend(loc=\"best\")\n",
    "plt.title(\"MLP Binary Classification\")\n",
    "plt.savefig('plots/mlp_real_pred_bin.png')\n",
    "plt.show()"
   ]
  },
  {
   "cell_type": "markdown",
   "metadata": {
    "id": "WL91l4ZnKBvx"
   },
   "source": [
    "### **Saving Trained Model to Disk**"
   ]
  },
  {
   "cell_type": "code",
   "execution_count": 57,
   "metadata": {
    "colab": {
     "base_uri": "https://localhost:8080/"
    },
    "id": "S83LGGk-105t",
    "outputId": "c5442975-fa75-4e40-844f-f8be741a308f"
   },
   "outputs": [
    {
     "name": "stdout",
     "output_type": "stream",
     "text": [
      "Saved model to disk\n"
     ]
    }
   ],
   "source": [
    "pkl_filename = \"./models/mlp_binary.pkl\"\n",
    "with open(pkl_filename, 'wb') as file:\n",
    "    pickle.dump(mlp_bin, file)\n",
    "    print(\"Saved model to disk\")\n"
   ]
  },
  {
   "cell_type": "code",
   "execution_count": 58,
   "metadata": {},
   "outputs": [
    {
     "data": {
      "text/plain": [
       "array([0.125     , 0.99553571, 0.02473958, 0.        , 0.52941176,\n",
       "       0.33333333, 0.32      , 0.32      , 0.53333333, 0.52941176,\n",
       "       0.27118644, 0.52941176, 0.        , 1.        ])"
      ]
     },
     "execution_count": 58,
     "metadata": {},
     "output_type": "execute_result"
    }
   ],
   "source": [
    "X_test[0]"
   ]
  },
  {
   "cell_type": "code",
   "execution_count": 59,
   "metadata": {},
   "outputs": [
    {
     "data": {
      "text/plain": [
       "array([0, 1])"
      ]
     },
     "execution_count": 59,
     "metadata": {},
     "output_type": "execute_result"
    }
   ],
   "source": [
    "mlp_bin.predict([[0.125000,0.995536,0.024740,0.000000,0.294118,0.333333,0.300000,0.300000,0.100000,0.294118,0.254237,0.294118,0.000000,1.000000], [2.71021429e-05, 0.00000000e+00, 4.74773195e-06, 2.99568124e-03,\n",
    "       3.92156863e-02, 0.00000000e+00, 2.00000000e-02, 0.00000000e+00,\n",
    "       0.00000000e+00, 0.00000000e+00, 3.38983051e-02, 1.96078431e-02,\n",
    "       0.00000000e+00, 0.00000000e+00]])"
   ]
  },
  {
   "cell_type": "code",
   "execution_count": 60,
   "metadata": {},
   "outputs": [
    {
     "name": "stdout",
     "output_type": "stream",
     "text": [
      "Model Loaded\n"
     ]
    }
   ],
   "source": [
    "with open(pkl_filename, 'rb') as file:\n",
    "    model = pickle.load(file)\n",
    "    print(\"Model Loaded\")"
   ]
  },
  {
   "cell_type": "code",
   "execution_count": 61,
   "metadata": {},
   "outputs": [
    {
     "data": {
      "text/plain": [
       "array([0, 1, 1, 0])"
      ]
     },
     "execution_count": 61,
     "metadata": {},
     "output_type": "execute_result"
    }
   ],
   "source": [
    "model.predict([[0.125000,0.995536,0.024740,0.000000,0.294118,0.333333,0.300000,0.300000,0.100000,0.294118,0.254237,0.294118,0.000000,1.000000], [2.71021429e-05, 0.00000000e+00, 4.74773195e-06, 2.99568124e-03,\n",
    "       3.92156863e-02, 0.00000000e+00, 2.00000000e-02, 0.00000000e+00,\n",
    "       0.00000000e+00, 0.00000000e+00, 3.38983051e-02, 1.96078431e-02,\n",
    "       0.00000000e+00, 0.00000000e+00],[2.71005, 0.0000, 4.74706, 2.99503, 3.92102, 0.0000, 2.00002, 0.0000, 0.0000, 0.0000, 3.38902, 1.96002, 0.0000, 0.0000],[1.125000,1.995536,1.024740,1.000000,1.294118,1.333333,1.300000,1.300000,1.100000,1.294118,1.254237,1.294118,1.000000,1.000000]])"
   ]
  },
  {
   "cell_type": "code",
   "execution_count": null,
   "metadata": {},
   "outputs": [],
   "source": []
  }
 ],
 "metadata": {
  "colab": {
   "collapsed_sections": [],
   "name": "Copy of iotml.ipynb",
   "provenance": []
  },
  "kernelspec": {
   "display_name": "Python 3 (ipykernel)",
   "language": "python",
   "name": "python3"
  },
  "language_info": {
   "codemirror_mode": {
    "name": "ipython",
    "version": 3
   },
   "file_extension": ".py",
   "mimetype": "text/x-python",
   "name": "python",
   "nbconvert_exporter": "python",
   "pygments_lexer": "ipython3",
   "version": "3.9.7"
  }
 },
 "nbformat": 4,
 "nbformat_minor": 1
}
